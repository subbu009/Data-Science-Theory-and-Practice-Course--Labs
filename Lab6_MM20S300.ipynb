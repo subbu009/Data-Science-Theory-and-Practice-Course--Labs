{
 "cells": [
  {
   "cell_type": "markdown",
   "metadata": {},
   "source": [
    "## Lab 6 - Inheritance and file input                      \n",
    " - by Subrahmanyam Gantasala MM20S300"
   ]
  },
  {
   "cell_type": "markdown",
   "metadata": {},
   "source": [
    "### Q1) Find about the following two functions and give suitable examples: \n",
    "- (a) isinstance and \n",
    "- (b) issubclass"
   ]
  },
  {
   "cell_type": "markdown",
   "metadata": {},
   "source": [
    "##### isinstance()\n",
    "- is an in-bulit method to check whether a given object is an instance of a given class\n",
    "- syntax: ```isinstance(obj,class)``` it outputs a True/False if given object is an instance of the given class/not"
   ]
  },
  {
   "cell_type": "code",
   "execution_count": 1,
   "metadata": {},
   "outputs": [
    {
     "name": "stdout",
     "output_type": "stream",
     "text": [
      "5 is an instance of class int: True\n",
      "[1, 2] is an instance of class int: False\n",
      "b is an instance of class Book: True\n"
     ]
    }
   ],
   "source": [
    "#example\n",
    "a = 5\n",
    "l=[1,2]\n",
    "print(f'{a} is an instance of class int: {isinstance(a,int)}')\n",
    "print(f'{l} is an instance of class int: {isinstance(l,int)}')\n",
    "\n",
    "class Book:\n",
    "    def __init__(self,name):\n",
    "        self.name = name        \n",
    "        \n",
    "b= Book('Python')\n",
    "print(f'b is an instance of class Book: {isinstance(b,Book)}')"
   ]
  },
  {
   "cell_type": "markdown",
   "metadata": {},
   "source": [
    "##### issubclass()\n",
    "- this method is used to find whether given class is a subclass or not\n",
    "- syntax : ```issubclass(obj,class)``` obj-subclass, class- superclass"
   ]
  },
  {
   "cell_type": "code",
   "execution_count": 2,
   "metadata": {},
   "outputs": [],
   "source": [
    "#example\n",
    "class Employee:\n",
    "    def __init__(self,name):\n",
    "        print('I am in class Employee')\n",
    "\n",
    "class HR(Employee):\n",
    "    def __init__(self,name):\n",
    "        super.__init__(self,name)\n",
    "        print('I am a HR')"
   ]
  },
  {
   "cell_type": "code",
   "execution_count": 3,
   "metadata": {},
   "outputs": [
    {
     "name": "stdout",
     "output_type": "stream",
     "text": [
      "HR is a subclass of Employee: True\n"
     ]
    }
   ],
   "source": [
    "print(f'HR is a subclass of Employee: {issubclass(HR,Employee)}')"
   ]
  },
  {
   "cell_type": "markdown",
   "metadata": {},
   "source": [
    "### Q2) Extend the classes Complex and Matrix to demonstrate multi-level inheritance.\n",
    "\n"
   ]
  },
  {
   "cell_type": "code",
   "execution_count": 4,
   "metadata": {},
   "outputs": [],
   "source": [
    "#complex class\n",
    "class Complex:\n",
    "    def __init__(self,real=0,imag=0):\n",
    "        self.real = real\n",
    "        self.imag = imag\n",
    "    def __add__(self,other):\n",
    "        s=Complex()\n",
    "        s.real = self.real+other.real\n",
    "        s.imag = self.imag+other.imag\n",
    "        return s\n",
    "    def addc(self,other):\n",
    "        s=Complex()\n",
    "        s.real = self.real+other.real\n",
    "        s.imag = self.imag+other.imag\n",
    "        return s\n",
    "    def __sub__(self,other):\n",
    "        s=Complex()\n",
    "        s.real = self.real-other.real\n",
    "        s.imag = self.imag-other.imag\n",
    "        return s\n",
    "    def subc(self,other):\n",
    "        s=Complex()\n",
    "        s.real = self.real-other.real\n",
    "        s.imag = self.imag-other.imag\n",
    "        return s\n",
    "    def __mul__(self,other):\n",
    "        s=Complex()\n",
    "        s.real = self.real*other.real - self.imag*other.imag\n",
    "        s.imag = self.imag*other.real + self.real*other.imag\n",
    "        return s\n",
    "    def mulc(self,other):\n",
    "        s=Complex()\n",
    "        s.real = self.real*other.real - self.imag*other.imag\n",
    "        s.imag = self.imag*other.real + self.real*other.imag\n",
    "        return s \n",
    "    def __truediv__(self,other):\n",
    "        s=Complex()\n",
    "        s.real = (self.real*other.real + self.imag*other.imag)/(other.real**2 + other.imag**2)\n",
    "        s.imag = (self.imag*other.real - self.real*other.imag)/(other.real**2 + other.imag**2)\n",
    "        return s\n",
    "    def divc(self,other):\n",
    "        s=Complex()\n",
    "        s.real = (self.real*other.real + self.imag*other.imag)/(other.real**2 + other.imag**2)\n",
    "        s.imag = (self.imag*other.real - self.real*other.imag)/(other.real**2 + other.imag**2)\n",
    "        return s\n",
    "    def __floordiv__(self,other):\n",
    "        s=Complex()\n",
    "        s.real = (self.real*other.real + self.imag*other.imag)//(other.real**2 + other.imag**2)\n",
    "        s.imag = (self.imag*other.real - self.real*other.imag)//(other.real**2 + other.imag**2)\n",
    "        return s\n",
    "    def divci(self,other):\n",
    "        s=Complex()\n",
    "        s.real = (self.real*other.real + self.imag*other.imag)//(other.real**2 + other.imag**2)\n",
    "        s.imag = (self.imag*other.real - self.real*other.imag)//(other.real**2 + other.imag**2)\n",
    "        return s\n",
    "    def printc(self):\n",
    "        if self.imag>0:\n",
    "            print(f'{self.real} + {self.imag}j')\n",
    "        else :\n",
    "            print(f'{self.real} - {abs(self.imag)}j')"
   ]
  },
  {
   "cell_type": "code",
   "execution_count": 5,
   "metadata": {},
   "outputs": [],
   "source": [
    "c1 = Complex(5,6)\n",
    "c2 = Complex(3,4)"
   ]
  },
  {
   "cell_type": "code",
   "execution_count": 6,
   "metadata": {},
   "outputs": [
    {
     "name": "stdout",
     "output_type": "stream",
     "text": [
      "Addition of c1 and c2 is\n",
      "8 + 10j\n",
      "Addition of c1 and c2 is\n",
      "8 + 10j\n",
      "Subtraction of c1 and c2 is\n",
      "2 + 2j\n",
      "Subtraction of c1 and c2 is\n",
      "2 + 2j\n",
      "Multiplication of c1 and c2 is\n",
      "-9 + 38j\n",
      "Multiplication of c1 and c2 is\n",
      "-9 + 38j\n",
      "Division of c1 and c2 is\n",
      "1.56 - 0.08j\n",
      "Division of c1 and c2 is\n",
      "1.56 - 0.08j\n",
      "Floor Division of c1 and c2 is\n",
      "1 - 1j\n",
      "Floor Division of c1 and c2 is\n",
      "1 - 1j\n"
     ]
    }
   ],
   "source": [
    "#add\n",
    "c3 = c1+c2\n",
    "print(f'Addition of c1 and c2 is')\n",
    "c3.printc()\n",
    "c4 = c1.addc(c2)\n",
    "print(f'Addition of c1 and c2 is')\n",
    "c4.printc()\n",
    "\n",
    "#sub\n",
    "c5 = c1-c2\n",
    "print(f'Subtraction of c1 and c2 is')\n",
    "c5.printc()\n",
    "c6 = c1.subc(c2)\n",
    "print(f'Subtraction of c1 and c2 is')\n",
    "c6.printc()\n",
    "\n",
    "#mul\n",
    "c7 = c1*c2\n",
    "print(f'Multiplication of c1 and c2 is')\n",
    "c7.printc()\n",
    "c8 = c1.mulc(c2)\n",
    "print(f'Multiplication of c1 and c2 is')\n",
    "c8.printc()\n",
    "\n",
    "#div\n",
    "c9 = c1/c2\n",
    "print(f'Division of c1 and c2 is')\n",
    "c9.printc()\n",
    "c10 = c1.divc(c2)\n",
    "print(f'Division of c1 and c2 is')\n",
    "c10.printc()\n",
    "\n",
    "#floor div\n",
    "c11 = c1//c2\n",
    "print(f'Floor Division of c1 and c2 is')\n",
    "c11.printc()\n",
    "c12 = c1.divci(c2)\n",
    "print(f'Floor Division of c1 and c2 is')\n",
    "c12.printc()\n"
   ]
  },
  {
   "cell_type": "code",
   "execution_count": 7,
   "metadata": {},
   "outputs": [],
   "source": [
    "import math"
   ]
  },
  {
   "cell_type": "code",
   "execution_count": 8,
   "metadata": {},
   "outputs": [],
   "source": [
    "#here the class Complex1 is inherited from Complex class and a new method is added\n",
    "class Complex1(Complex):\n",
    "    def modulus(self):\n",
    "        return (math.sqrt(self.real **2 + self.imag **2))"
   ]
  },
  {
   "cell_type": "code",
   "execution_count": 9,
   "metadata": {},
   "outputs": [],
   "source": [
    "c = Complex1(4,3)"
   ]
  },
  {
   "cell_type": "code",
   "execution_count": 10,
   "metadata": {},
   "outputs": [
    {
     "data": {
      "text/plain": [
       "5.0"
      ]
     },
     "execution_count": 10,
     "metadata": {},
     "output_type": "execute_result"
    }
   ],
   "source": [
    "c.modulus()"
   ]
  },
  {
   "cell_type": "code",
   "execution_count": 11,
   "metadata": {},
   "outputs": [],
   "source": [
    "#here the class Complex2 is inherited from Complex1 class and a new method is added\n",
    "class Complex2(Complex1):\n",
    "    def Polarform(self):\n",
    "        return f'Polar form :- modulus: {self.modulus()}; angle in rad : {math.atan(self.imag/self.real)}'"
   ]
  },
  {
   "cell_type": "code",
   "execution_count": 12,
   "metadata": {},
   "outputs": [],
   "source": [
    "d = Complex2(4,3)"
   ]
  },
  {
   "cell_type": "code",
   "execution_count": 13,
   "metadata": {},
   "outputs": [
    {
     "name": "stdout",
     "output_type": "stream",
     "text": [
      "Polar form :- modulus: 5.0; angle in rad : 0.6435011087932844\n"
     ]
    }
   ],
   "source": [
    "print(d.Polarform())"
   ]
  },
  {
   "cell_type": "code",
   "execution_count": 14,
   "metadata": {},
   "outputs": [],
   "source": [
    "#Matrix class\n",
    "\n",
    "class Matrix(object):\n",
    "    def __init__(self, mat=None, rows=None, cols=None):\n",
    "        if mat:\n",
    "            self.data = mat\n",
    "        else:\n",
    "            self.data = [[0 for c in range(cols)] for r in range(rows)]\n",
    "        self.rows = len(self.data)\n",
    "        self.cols = len(self.data[0])\n",
    "        \n",
    "    def shape(self):          # myMatrix.shape -> (4,3)\n",
    "        return (self.rows, self.cols)\n",
    "    def __getitem__(self, i): # lets you do myMatrix[row][col\n",
    "        return self.data[i]\n",
    "    def __str__(self):        # pretty string formatting\n",
    "        return f'{self.data}'\n",
    "    def __add__(self, other):\n",
    "        mat = Matrix(rows=self.rows,cols=self.cols)\n",
    "        mat = [[self.data[i][j]+other[i][j] for j in range(self.cols)] for i in range(self.rows)]\n",
    "        return mat\n",
    "    def __sub__(self, other):\n",
    "        mat = Matrix(rows=self.rows,cols=self.cols)\n",
    "        mat = [[self.data[i][j]-other[i][j] for j in range(self.cols)] for i in range(self.rows)]\n",
    "        return mat\n",
    "    #element by element multiplication\n",
    "    def __mul__(self, other):\n",
    "        mat = Matrix(rows=self.rows,cols=self.cols)\n",
    "        mat = [[self.data[i][j]*other[i][j] for j in range(self.cols)] for i in range(self.rows)]\n",
    "        return mat\n",
    "    def matmul(self,other):\n",
    "        mat = Matrix(rows=self.rows,cols=self.cols)\n",
    "        for i in range(len(self.data)):\n",
    "            for j in range(len(other[0])):\n",
    "                for k in range(len(other)):\n",
    "                    mat[i][j] += self.data[i][k] * other[k][j]\n",
    "    def scalar_mul(self,other):\n",
    "        mat = Matrix(rows=self.rows,cols=self.cols)\n",
    "        mat = [[self.data[i][j]*other for j in range(self.cols)] for i in range(self.rows)]\n",
    "        return mat"
   ]
  },
  {
   "cell_type": "code",
   "execution_count": 15,
   "metadata": {},
   "outputs": [],
   "source": [
    "m1 = Matrix([[1,2],[3,4],[5,6]])"
   ]
  },
  {
   "cell_type": "code",
   "execution_count": 16,
   "metadata": {},
   "outputs": [],
   "source": [
    "m2 = Matrix([[1,2],[3,4],[5,7]])"
   ]
  },
  {
   "cell_type": "code",
   "execution_count": 17,
   "metadata": {},
   "outputs": [],
   "source": [
    "m3=m1+m2"
   ]
  },
  {
   "cell_type": "code",
   "execution_count": 18,
   "metadata": {},
   "outputs": [
    {
     "data": {
      "text/plain": [
       "[[2, 4], [6, 8], [10, 13]]"
      ]
     },
     "execution_count": 18,
     "metadata": {},
     "output_type": "execute_result"
    }
   ],
   "source": [
    "m3"
   ]
  },
  {
   "cell_type": "code",
   "execution_count": 19,
   "metadata": {},
   "outputs": [],
   "source": [
    "#here the class Matrix1 is inherited from Matrix class and a new method is added\n",
    "class Matrix1(Matrix):\n",
    "    def addscalar(self,scalar):\n",
    "        mat = Matrix(rows=self.rows,cols=self.cols)\n",
    "        mat = [[self.data[i][j]+scalar for j in range(self.cols)] for i in range(self.rows)]\n",
    "        return mat  "
   ]
  },
  {
   "cell_type": "code",
   "execution_count": 20,
   "metadata": {},
   "outputs": [],
   "source": [
    "m4 = Matrix1([[2, 4], [6, 8], [10, 13]])"
   ]
  },
  {
   "cell_type": "code",
   "execution_count": 21,
   "metadata": {},
   "outputs": [
    {
     "name": "stdout",
     "output_type": "stream",
     "text": [
      "[[2, 4], [6, 8], [10, 13]]\n"
     ]
    }
   ],
   "source": [
    "print(m4)"
   ]
  },
  {
   "cell_type": "code",
   "execution_count": 22,
   "metadata": {},
   "outputs": [
    {
     "data": {
      "text/plain": [
       "[[7, 9], [11, 13], [15, 18]]"
      ]
     },
     "execution_count": 22,
     "metadata": {},
     "output_type": "execute_result"
    }
   ],
   "source": [
    "m4.addscalar(5)"
   ]
  },
  {
   "cell_type": "code",
   "execution_count": 23,
   "metadata": {},
   "outputs": [
    {
     "data": {
      "text/plain": [
       "[[4, 8], [12, 16], [20, 26]]"
      ]
     },
     "execution_count": 23,
     "metadata": {},
     "output_type": "execute_result"
    }
   ],
   "source": [
    "m4+m3 #inherited __add__() method"
   ]
  },
  {
   "cell_type": "code",
   "execution_count": 24,
   "metadata": {},
   "outputs": [],
   "source": [
    "#here the class Matrix2 is inherited from Matrix1 class and a new method is added\n",
    "class Matrix2(Matrix):\n",
    "    def transpose(self):\n",
    "        return [[self.data[j][i] for j in range(self.rows)] for i in range(self.cols)]  "
   ]
  },
  {
   "cell_type": "code",
   "execution_count": 25,
   "metadata": {},
   "outputs": [],
   "source": [
    "m5 = Matrix2([[4, 8], [12, 16], [20, 26]])"
   ]
  },
  {
   "cell_type": "code",
   "execution_count": 26,
   "metadata": {},
   "outputs": [
    {
     "name": "stdout",
     "output_type": "stream",
     "text": [
      "[[4, 8], [12, 16], [20, 26]]\n"
     ]
    }
   ],
   "source": [
    "print(m5)"
   ]
  },
  {
   "cell_type": "code",
   "execution_count": 27,
   "metadata": {},
   "outputs": [
    {
     "data": {
      "text/plain": [
       "[[4, 12, 20], [8, 16, 26]]"
      ]
     },
     "execution_count": 27,
     "metadata": {},
     "output_type": "execute_result"
    }
   ],
   "source": [
    "m5.transpose()"
   ]
  },
  {
   "cell_type": "markdown",
   "metadata": {},
   "source": [
    "### Q3) Assuming that you have a department with students in different streams such as B.Tech, DD, MS, PhD.   \n",
    "- Make a list of students in each class (streams). \n",
    "- Using multiple inheritance for department from the students, add methods such as identification of the student's stream, printing the details of the student, as well as add methods to add courses for a particular student and compute the CGPA of each student.\n"
   ]
  },
  {
   "cell_type": "code",
   "execution_count": 28,
   "metadata": {},
   "outputs": [],
   "source": [
    "class BTech:\n",
    "    btech = ['A','B']\n",
    "class DD:\n",
    "    dd = ['C','D']\n",
    "class MS:\n",
    "    ms=['E','F']\n",
    "class PhD:\n",
    "    phd=['G','H']\n",
    "\n"
   ]
  },
  {
   "cell_type": "code",
   "execution_count": 30,
   "metadata": {},
   "outputs": [],
   "source": [
    "class Department(BTech,DD,MS,PhD):\n",
    "    courses={}\n",
    "    def findstream(self,name):\n",
    "        if name in self.btech:\n",
    "            print(f'{name} is a BTech Student')\n",
    "        elif name in self.dd:\n",
    "            print(f'{name} is a DD Student')\n",
    "        elif name in self.ms:\n",
    "            print(f'{name} is a MS Student')\n",
    "        elif name in self.phd:\n",
    "            print(f'{name} is a PhD Student')\n",
    "        else:\n",
    "            print(f'No student with name {name} in the department')\n",
    "            return False\n",
    "    def addcourse(self,name,course):\n",
    "        if self.findstream(name) is not False:\n",
    "            self.courses.update({name:course})\n",
    "            return self.courses\n",
    "        "
   ]
  },
  {
   "cell_type": "code",
   "execution_count": 31,
   "metadata": {},
   "outputs": [],
   "source": [
    "M=Department()"
   ]
  },
  {
   "cell_type": "code",
   "execution_count": 32,
   "metadata": {},
   "outputs": [
    {
     "name": "stdout",
     "output_type": "stream",
     "text": [
      "No student with name X in the department\n"
     ]
    },
    {
     "data": {
      "text/plain": [
       "False"
      ]
     },
     "execution_count": 32,
     "metadata": {},
     "output_type": "execute_result"
    }
   ],
   "source": [
    "M.findstream('X')"
   ]
  },
  {
   "cell_type": "code",
   "execution_count": 33,
   "metadata": {},
   "outputs": [
    {
     "name": "stdout",
     "output_type": "stream",
     "text": [
      "A is a BTech Student\n"
     ]
    },
    {
     "data": {
      "text/plain": [
       "{'A': 'ED101'}"
      ]
     },
     "execution_count": 33,
     "metadata": {},
     "output_type": "execute_result"
    }
   ],
   "source": [
    "M.addcourse('A','ED101')"
   ]
  },
  {
   "cell_type": "markdown",
   "metadata": {},
   "source": [
    "### Q4) Create a list by taking inputs from a file. Do the same thing for other containers. "
   ]
  },
  {
   "cell_type": "code",
   "execution_count": 34,
   "metadata": {},
   "outputs": [],
   "source": [
    "lis1 = open('new.txt').read().splitlines()"
   ]
  },
  {
   "cell_type": "code",
   "execution_count": 35,
   "metadata": {},
   "outputs": [
    {
     "data": {
      "text/plain": [
       "['HI', 'HELLO']"
      ]
     },
     "execution_count": 35,
     "metadata": {},
     "output_type": "execute_result"
    }
   ],
   "source": [
    "lis1"
   ]
  },
  {
   "cell_type": "code",
   "execution_count": 36,
   "metadata": {},
   "outputs": [
    {
     "data": {
      "text/plain": [
       "('HI', 'HELLO')"
      ]
     },
     "execution_count": 36,
     "metadata": {},
     "output_type": "execute_result"
    }
   ],
   "source": [
    "tup = tuple(lis1)\n",
    "tup"
   ]
  },
  {
   "cell_type": "code",
   "execution_count": 37,
   "metadata": {},
   "outputs": [],
   "source": [
    "dic={}\n",
    "\n",
    "with open('new.txt') as file:\n",
    "    for line in file:\n",
    "        dic.update({line:line})"
   ]
  },
  {
   "cell_type": "code",
   "execution_count": 38,
   "metadata": {},
   "outputs": [
    {
     "data": {
      "text/plain": [
       "{'HI\\n': 'HI\\n', 'HELLO': 'HELLO'}"
      ]
     },
     "execution_count": 38,
     "metadata": {},
     "output_type": "execute_result"
    }
   ],
   "source": [
    "dic"
   ]
  },
  {
   "cell_type": "markdown",
   "metadata": {},
   "source": [
    "### Q5) For the Complex and Matrix classes (which have been done already), take input from a file and write the output(s) to a file.\n"
   ]
  },
  {
   "cell_type": "code",
   "execution_count": 39,
   "metadata": {},
   "outputs": [],
   "source": [
    "file = open('inp.txt','w')\n",
    "file.write('2\\n')\n",
    "file.writelines('3')\n",
    "file.close()"
   ]
  },
  {
   "cell_type": "code",
   "execution_count": 40,
   "metadata": {},
   "outputs": [],
   "source": [
    "f = open(\"inp.txt\", 'r')\n",
    "\n",
    "nums = f.readlines()\n",
    "nums = [int(i) for i in nums]"
   ]
  },
  {
   "cell_type": "code",
   "execution_count": 41,
   "metadata": {},
   "outputs": [],
   "source": [
    "x=Complex2(nums[0],nums[1])"
   ]
  },
  {
   "cell_type": "code",
   "execution_count": 42,
   "metadata": {},
   "outputs": [
    {
     "data": {
      "text/plain": [
       "3.605551275463989"
      ]
     },
     "execution_count": 42,
     "metadata": {},
     "output_type": "execute_result"
    }
   ],
   "source": [
    "x.modulus()"
   ]
  },
  {
   "cell_type": "markdown",
   "metadata": {},
   "source": [
    "#text file contents\n",
    "\n",
    "- 2 2 #no of cols and rows\n",
    "- 4 5\n",
    "- 6 7"
   ]
  },
  {
   "cell_type": "code",
   "execution_count": 48,
   "metadata": {},
   "outputs": [
    {
     "name": "stdout",
     "output_type": "stream",
     "text": [
      "[[4, 5], [6, 7]]\n"
     ]
    }
   ],
   "source": [
    "with open('mat.txt') as f:\n",
    "    data = []\n",
    "    cols,rows=list(map(int, f.readline().split()))\n",
    "    for i in range(0, rows):\n",
    "        data.append(list(map(int, f.readline().split()[:cols])))\n",
    "print (data)"
   ]
  },
  {
   "cell_type": "code",
   "execution_count": 49,
   "metadata": {},
   "outputs": [],
   "source": [
    "m=Matrix2(data)"
   ]
  },
  {
   "cell_type": "code",
   "execution_count": 50,
   "metadata": {},
   "outputs": [
    {
     "data": {
      "text/plain": [
       "[[4, 6], [5, 7]]"
      ]
     },
     "execution_count": 50,
     "metadata": {},
     "output_type": "execute_result"
    }
   ],
   "source": [
    "m.transpose()"
   ]
  },
  {
   "cell_type": "markdown",
   "metadata": {},
   "source": [
    "### Q6) Demonstrate the various file / directory operations that can be carried out in python\n"
   ]
  },
  {
   "cell_type": "markdown",
   "metadata": {},
   "source": [
    "- python ```os``` module allows us to perform different operations with directories and files with in the code"
   ]
  },
  {
   "cell_type": "code",
   "execution_count": 51,
   "metadata": {},
   "outputs": [],
   "source": [
    "import os"
   ]
  },
  {
   "cell_type": "code",
   "execution_count": 52,
   "metadata": {},
   "outputs": [
    {
     "name": "stdout",
     "output_type": "stream",
     "text": [
      "The current directory is C:\\Users\\shiva\\new_dir \n"
     ]
    }
   ],
   "source": [
    "#current directory\n",
    "print(f'The current directory is {os.getcwd()} ')"
   ]
  },
  {
   "cell_type": "code",
   "execution_count": 53,
   "metadata": {},
   "outputs": [],
   "source": [
    "#new dir\n",
    "os.mkdir('new_dir')"
   ]
  },
  {
   "cell_type": "code",
   "execution_count": 54,
   "metadata": {},
   "outputs": [],
   "source": [
    "#change dir\n",
    "os.chdir('C:\\\\Users\\\\shiva\\\\new_dir')"
   ]
  },
  {
   "cell_type": "code",
   "execution_count": 55,
   "metadata": {},
   "outputs": [
    {
     "data": {
      "text/plain": [
       "'C:\\\\Users\\\\shiva\\\\new_dir'"
      ]
     },
     "execution_count": 55,
     "metadata": {},
     "output_type": "execute_result"
    }
   ],
   "source": [
    "os.getcwd()"
   ]
  },
  {
   "cell_type": "code",
   "execution_count": 56,
   "metadata": {},
   "outputs": [],
   "source": [
    "#create new_file in new_dir\n",
    "with open('new_file1.txt','w') as f:\n",
    "    f.write('This is a new file 1 in new directory')"
   ]
  },
  {
   "cell_type": "code",
   "execution_count": 57,
   "metadata": {},
   "outputs": [],
   "source": [
    "with open('new_file2.txt','w') as f:\n",
    "    f.write('This is a new file in 2 new directory')"
   ]
  },
  {
   "cell_type": "code",
   "execution_count": 58,
   "metadata": {},
   "outputs": [
    {
     "name": "stdout",
     "output_type": "stream",
     "text": [
      "List of files in current directory ['.ipynb_checkpoints', 'comp.txt', 'complex.txt', 'complex_in.txt', 'inp.txt', 'mat.txt', 'new_dir', 'new_file1.txt', 'new_file2.txt'] \n"
     ]
    }
   ],
   "source": [
    "#list files / dir is current dir\n",
    "print(f'List of files in current directory {os.listdir(os.getcwd())} ')"
   ]
  },
  {
   "cell_type": "code",
   "execution_count": 59,
   "metadata": {},
   "outputs": [],
   "source": [
    "#rename file/ directory\n",
    "os.rename('new_file1.txt','New_file1.txt')"
   ]
  },
  {
   "cell_type": "code",
   "execution_count": 60,
   "metadata": {},
   "outputs": [
    {
     "data": {
      "text/plain": [
       "['.ipynb_checkpoints',\n",
       " 'comp.txt',\n",
       " 'complex.txt',\n",
       " 'complex_in.txt',\n",
       " 'inp.txt',\n",
       " 'mat.txt',\n",
       " 'new_dir',\n",
       " 'New_file1.txt',\n",
       " 'new_file2.txt']"
      ]
     },
     "execution_count": 60,
     "metadata": {},
     "output_type": "execute_result"
    }
   ],
   "source": [
    "os.listdir()"
   ]
  },
  {
   "cell_type": "code",
   "execution_count": 61,
   "metadata": {},
   "outputs": [],
   "source": [
    "import shutil"
   ]
  },
  {
   "cell_type": "code",
   "execution_count": 62,
   "metadata": {},
   "outputs": [
    {
     "data": {
      "text/plain": [
       "'new_file2.txt'"
      ]
     },
     "execution_count": 62,
     "metadata": {},
     "output_type": "execute_result"
    }
   ],
   "source": [
    "#shutil module can be used to copy the contents of a file to another\n",
    "shutil.copyfile('New_file1.txt','new_file2.txt')"
   ]
  }
 ],
 "metadata": {
  "kernelspec": {
   "display_name": "Python 3",
   "language": "python",
   "name": "python3"
  },
  "language_info": {
   "codemirror_mode": {
    "name": "ipython",
    "version": 3
   },
   "file_extension": ".py",
   "mimetype": "text/x-python",
   "name": "python",
   "nbconvert_exporter": "python",
   "pygments_lexer": "ipython3",
   "version": "3.6.5"
  }
 },
 "nbformat": 4,
 "nbformat_minor": 2
}
