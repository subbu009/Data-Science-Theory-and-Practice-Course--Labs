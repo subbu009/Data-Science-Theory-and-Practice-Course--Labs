{
 "cells": [
  {
   "cell_type": "markdown",
   "metadata": {},
   "source": [
    "## Lab 7 - csv/optimization                      \n",
    " - by Subrahmanyam Gantasala MM20S300"
   ]
  },
  {
   "cell_type": "markdown",
   "metadata": {},
   "source": [
    "### Q5) For the function J(w) = w^2 + (54/w), implement the following methods: \n",
    "- (a) bracketing method (choose you own a, b, n). \n",
    "- (b) Use the bracketed value to get to the critical point employing interval halving method and \n",
    "- (c) identify the critical point using Newton-Raphson method and \n",
    "- (d) vary the result manually using the optimality criteria (post this write-up as well in .jped/.png etc)."
   ]
  },
  {
   "cell_type": "code",
   "execution_count": 15,
   "metadata": {},
   "outputs": [],
   "source": [
    "import numpy as np\n",
    "import matplotlib.pyplot as plt\n",
    "%matplotlib inline"
   ]
  },
  {
   "cell_type": "code",
   "execution_count": 28,
   "metadata": {},
   "outputs": [],
   "source": [
    "w = np.linspace(0,20,20)"
   ]
  },
  {
   "cell_type": "code",
   "execution_count": 29,
   "metadata": {},
   "outputs": [
    {
     "name": "stderr",
     "output_type": "stream",
     "text": [
      "C:\\ProgramData\\Anaconda3\\lib\\site-packages\\ipykernel_launcher.py:1: RuntimeWarning: divide by zero encountered in true_divide\n",
      "  \"\"\"Entry point for launching an IPython kernel.\n"
     ]
    }
   ],
   "source": [
    "J = w**2 + (54/w)"
   ]
  },
  {
   "cell_type": "code",
   "execution_count": 49,
   "metadata": {},
   "outputs": [
    {
     "name": "stderr",
     "output_type": "stream",
     "text": [
      "C:\\ProgramData\\Anaconda3\\lib\\site-packages\\matplotlib\\cbook\\deprecation.py:107: MatplotlibDeprecationWarning: Passing one of 'on', 'true', 'off', 'false' as a boolean is deprecated; use an actual boolean (True/False) instead.\n",
      "  warnings.warn(message, mplDeprecation, stacklevel=1)\n"
     ]
    },
    {
     "data": {
      "image/png": "[encoded data removed]",
      "text/plain": [
       "<Figure size 450x450 with 1 Axes>"
      ]
     },
     "metadata": {},
     "output_type": "display_data"
    }
   ],
   "source": [
    "plt.figure(figsize=(6,6), dpi=75)\n",
    "plt.grid('on')\n",
    "plt.plot(w,J,lw=3)\n",
    "plt.xlabel('w')\n",
    "plt.ylabel('J(w)')\n",
    "plt.title(r'Plot of $J(w) = w^2 + \\dfrac{54}{w}$')\n",
    "plt.xlim(0,20)\n",
    "plt.xticks(np.arange(0,21))\n",
    "plt.show()\n"
   ]
  },
  {
   "cell_type": "code",
   "execution_count": 31,
   "metadata": {},
   "outputs": [
    {
     "data": {
      "text/plain": [
       "3"
      ]
     },
     "execution_count": 31,
     "metadata": {},
     "output_type": "execute_result"
    }
   ],
   "source": [
    "J.argmin() #the minimum values is 3"
   ]
  },
  {
   "cell_type": "code",
   "execution_count": 4,
   "metadata": {},
   "outputs": [],
   "source": [
    "def J(w):\n",
    "    return w**2 + (54/w)"
   ]
  },
  {
   "cell_type": "code",
   "execution_count": 11,
   "metadata": {},
   "outputs": [],
   "source": [
    "#Lets use exhaustive search in bracket methods, to compare how accurately it predicts the min value (optimum value)\n",
    "\n",
    "#interval\n",
    "def bracket(a,b,n):\n",
    "    delw = (b-a)/n\n",
    "    \n",
    "    w1 = a\n",
    "    w2 = w1+delw\n",
    "    w3 = w2+delw\n",
    "\n",
    "    while (w3<b):\n",
    "        j1 = J(w1)\n",
    "        j2 = J(w2)\n",
    "        j3 = J(w3)\n",
    "    \n",
    "        if j1>j2 and j2<j3:\n",
    "            print(f'The min value is in between {w1} and {w3} and is approximately {w2}')\n",
    "            wmin=w2\n",
    "            break\n",
    "        else :\n",
    "            w1=w2\n",
    "            w2=w3\n",
    "            w3=w2+delw\n",
    "    return w2\n",
    "    "
   ]
  },
  {
   "cell_type": "code",
   "execution_count": 12,
   "metadata": {},
   "outputs": [
    {
     "name": "stdout",
     "output_type": "stream",
     "text": [
      "The min value is in between 1.95 and 3.8499999999999996 and is approximately 2.9\n"
     ]
    },
    {
     "data": {
      "text/plain": [
       "2.9"
      ]
     },
     "execution_count": 12,
     "metadata": {},
     "output_type": "execute_result"
    }
   ],
   "source": [
    "bracket(1,20,20)"
   ]
  },
  {
   "cell_type": "code",
   "execution_count": 29,
   "metadata": {},
   "outputs": [
    {
     "name": "stdout",
     "output_type": "stream",
     "text": [
      "The min value is in between 2.9760000000000018 and 3.014000000000002 and is approximately 2.995000000000002\n"
     ]
    },
    {
     "data": {
      "text/plain": [
       "2.995000000000002"
      ]
     },
     "execution_count": 29,
     "metadata": {},
     "output_type": "execute_result"
    }
   ],
   "source": [
    "bracket(1,20,1000)"
   ]
  },
  {
   "cell_type": "markdown",
   "metadata": {},
   "source": [
    "So the exhaustive search method gives min value of w as 2.9 with n=20"
   ]
  },
  {
   "cell_type": "code",
   "execution_count": 22,
   "metadata": {},
   "outputs": [
    {
     "name": "stdout",
     "output_type": "stream",
     "text": [
      "The min value is in between 1 and 10.5 and is approximately 5.75\n",
      "The min value is in between 1 and 8.6 and is approximately 4.8\n",
      "The min value is in between 1 and 7.333333333333332 and is approximately 4.166666666666666\n",
      "The min value is in between 1 and 6.428571428571429 and is approximately 3.7142857142857144\n",
      "The min value is in between 1 and 5.75 and is approximately 3.375\n",
      "The min value is in between 1 and 5.222222222222222 and is approximately 3.111111111111111\n",
      "The min value is in between 1 and 4.8 and is approximately 2.9\n",
      "The min value is in between 1 and 4.454545454545455 and is approximately 2.7272727272727275\n",
      "The min value is in between 1 and 4.166666666666666 and is approximately 2.583333333333333\n",
      "The min value is in between 1 and 3.9230769230769234 and is approximately 2.4615384615384617\n",
      "The min value is in between 2.357142857142857 and 5.071428571428571 and is approximately 3.7142857142857144\n",
      "The min value is in between 2.2666666666666666 and 4.8 and is approximately 3.533333333333333\n",
      "The min value is in between 2.1875 and 4.5625 and is approximately 3.375\n",
      "The min value is in between 2.1176470588235294 and 4.352941176470589 and is approximately 3.235294117647059\n",
      "The min value is in between 2.0555555555555554 and 4.166666666666666 and is approximately 3.1111111111111107\n",
      "The min value is in between 2.0 and 4.0 and is approximately 3.0\n",
      "The min value is in between 1.95 and 3.8499999999999996 and is approximately 2.9\n",
      "The min value is in between 1.9047619047619047 and 3.714285714285714 and is approximately 2.8095238095238093\n",
      "The min value is in between 1.8636363636363638 and 3.5909090909090913 and is approximately 2.7272727272727275\n",
      "The min value is in between 1.8260869565217392 and 3.4782608695652177 and is approximately 2.6521739130434785\n",
      "The min value is in between 2.583333333333333 and 4.166666666666666 and is approximately 3.3749999999999996\n",
      "The min value is in between 2.52 and 4.04 and is approximately 3.2800000000000002\n",
      "The min value is in between 2.4615384615384617 and 3.9230769230769234 and is approximately 3.1923076923076925\n",
      "The min value is in between 2.4074074074074074 and 3.814814814814815 and is approximately 3.111111111111111\n",
      "The min value is in between 2.357142857142857 and 3.7142857142857144 and is approximately 3.0357142857142856\n",
      "The min value is in between 2.310344827586207 and 3.6206896551724137 and is approximately 2.9655172413793105\n",
      "The min value is in between 2.2666666666666666 and 3.533333333333333 and is approximately 2.9\n",
      "The min value is in between 2.225806451612903 and 3.451612903225806 and is approximately 2.8387096774193545\n",
      "The min value is in between 2.1875 and 3.375 and is approximately 2.78125\n",
      "The min value is in between 2.1515151515151514 and 3.3030303030303028 and is approximately 2.727272727272727\n",
      "The min value is in between 2.6764705882352944 and 3.7941176470588234 and is approximately 3.235294117647059\n",
      "The min value is in between 2.628571428571428 and 3.7142857142857135 and is approximately 3.171428571428571\n",
      "The min value is in between 2.583333333333333 and 3.6388888888888884 and is approximately 3.1111111111111107\n",
      "The min value is in between 2.540540540540541 and 3.567567567567568 and is approximately 3.0540540540540544\n",
      "The min value is in between 2.5 and 3.5 and is approximately 3.0\n",
      "The min value is in between 2.4615384615384617 and 3.435897435897436 and is approximately 2.948717948717949\n",
      "The min value is in between 2.4250000000000003 and 3.3750000000000004 and is approximately 2.9000000000000004\n",
      "The min value is in between 2.3902439024390243 and 3.317073170731707 and is approximately 2.8536585365853657\n",
      "The min value is in between 2.357142857142857 and 3.2619047619047623 and is approximately 2.8095238095238098\n",
      "The min value is in between 2.767441860465116 and 3.651162790697674 and is approximately 3.209302325581395\n",
      "The min value is in between 2.727272727272727 and 3.5909090909090904 and is approximately 3.1590909090909087\n",
      "The min value is in between 2.6888888888888887 and 3.5333333333333328 and is approximately 3.1111111111111107\n",
      "The min value is in between 2.6521739130434785 and 3.4782608695652177 and is approximately 3.065217391304348\n",
      "The min value is in between 2.617021276595745 and 3.425531914893617 and is approximately 3.021276595744681\n",
      "The min value is in between 2.5833333333333335 and 3.3750000000000004 and is approximately 2.979166666666667\n",
      "The min value is in between 2.5510204081632653 and 3.3265306122448974 and is approximately 2.9387755102040813\n",
      "The min value is in between 2.5199999999999996 and 3.2799999999999994 and is approximately 2.8999999999999995\n",
      "The min value is in between 2.4901960784313726 and 3.235294117647059 and is approximately 2.8627450980392157\n",
      "The min value is in between 2.4615384615384617 and 3.1923076923076925 and is approximately 2.826923076923077\n",
      "The min value is in between 2.7924528301886795 and 3.5094339622641515 and is approximately 3.1509433962264155\n",
      "The min value is in between 2.7592592592592595 and 3.4629629629629637 and is approximately 3.1111111111111116\n",
      "The min value is in between 2.7272727272727275 and 3.418181818181819 and is approximately 3.072727272727273\n",
      "The min value is in between 2.696428571428572 and 3.375000000000001 and is approximately 3.0357142857142865\n",
      "The min value is in between 2.6666666666666665 and 3.3333333333333335 and is approximately 3.0\n",
      "The min value is in between 2.637931034482758 and 3.293103448275861 and is approximately 2.9655172413793096\n",
      "The min value is in between 2.610169491525424 and 3.2542372881355934 and is approximately 2.9322033898305087\n",
      "The min value is in between 2.583333333333333 and 3.216666666666666 and is approximately 2.8999999999999995\n",
      "The min value is in between 2.5573770491803285 and 3.18032786885246 and is approximately 2.868852459016394\n",
      "The min value is in between 2.838709677419355 and 3.451612903225807 and is approximately 3.145161290322581\n",
      "The min value is in between 2.8095238095238093 and 3.412698412698412 and is approximately 3.1111111111111107\n",
      "The min value is in between 2.78125 and 3.375 and is approximately 3.078125\n",
      "The min value is in between 2.753846153846154 and 3.338461538461538 and is approximately 3.046153846153846\n",
      "The min value is in between 2.7272727272727275 and 3.3030303030303036 and is approximately 3.0151515151515156\n",
      "The min value is in between 2.701492537313433 and 3.268656716417911 and is approximately 2.985074626865672\n",
      "The min value is in between 2.6764705882352935 and 3.235294117647058 and is approximately 2.9558823529411757\n",
      "The min value is in between 2.6521739130434776 and 3.202898550724637 and is approximately 2.927536231884057\n",
      "The min value is in between 2.628571428571428 and 3.171428571428571 and is approximately 2.8999999999999995\n",
      "The min value is in between 2.605633802816902 and 3.140845070422536 and is approximately 2.873239436619719\n",
      "The min value is in between 2.847222222222222 and 3.3749999999999996 and is approximately 3.1111111111111107\n",
      "The min value is in between 2.8219178082191783 and 3.342465753424658 and is approximately 3.082191780821918\n",
      "The min value is in between 2.797297297297297 and 3.31081081081081 and is approximately 3.0540540540540535\n",
      "The min value is in between 2.773333333333334 and 3.2800000000000007 and is approximately 3.0266666666666673\n",
      "The min value is in between 2.75 and 3.25 and is approximately 3.0\n",
      "The min value is in between 2.727272727272727 and 3.2207792207792205 and is approximately 2.974025974025974\n",
      "The min value is in between 2.7051282051282053 and 3.1923076923076925 and is approximately 2.948717948717949\n",
      "The min value is in between 2.683544303797468 and 3.164556962025316 and is approximately 2.924050632911392\n",
      "The min value is in between 2.6624999999999996 and 3.1374999999999993 and is approximately 2.8999999999999995\n",
      "The min value is in between 2.8765432098765435 and 3.3456790123456797 and is approximately 3.1111111111111116\n",
      "The min value is in between 2.8536585365853666 and 3.3170731707317085 and is approximately 3.0853658536585375\n",
      "The min value is in between 2.83132530120482 and 3.289156626506025 and is approximately 3.0602409638554224\n",
      "The min value is in between 2.80952380952381 and 3.2619047619047628 and is approximately 3.0357142857142865\n",
      "The min value is in between 2.788235294117648 and 3.2352941176470598 and is approximately 3.011764705882354\n",
      "The min value is in between 2.767441860465116 and 3.209302325581395 and is approximately 2.9883720930232553\n",
      "The min value is in between 2.7471264367816097 and 3.183908045977012 and is approximately 2.965517241379311\n",
      "The min value is in between 2.7272727272727266 and 3.1590909090909083 and is approximately 2.9431818181818175\n",
      "The min value is in between 2.7078651685393256 and 3.1348314606741567 and is approximately 2.921348314606741\n",
      "The min value is in between 2.688888888888889 and 3.1111111111111116 and is approximately 2.9000000000000004\n",
      "The min value is in between 2.8791208791208796 and 3.2967032967032974 and is approximately 3.0879120879120885\n",
      "The min value is in between 2.858695652173912 and 3.2717391304347814 and is approximately 3.065217391304347\n",
      "The min value is in between 2.838709677419354 and 3.247311827956988 and is approximately 3.043010752688171\n",
      "The min value is in between 2.819148936170212 and 3.2234042553191475 and is approximately 3.0212765957446797\n",
      "The min value is in between 2.8000000000000003 and 3.2000000000000006 and is approximately 3.0000000000000004\n",
      "The min value is in between 2.78125 and 3.177083333333333 and is approximately 2.9791666666666665\n",
      "The min value is in between 2.7628865979381447 and 3.1546391752577327 and is approximately 2.9587628865979387\n",
      "The min value is in between 2.7448979591836724 and 3.1326530612244885 and is approximately 2.9387755102040805\n",
      "The min value is in between 2.727272727272727 and 3.111111111111111 and is approximately 2.919191919191919\n"
     ]
    }
   ],
   "source": [
    "mins=[]\n",
    "for i in range(1,100):\n",
    "    mins.append(bracket(1,20,i))"
   ]
  },
  {
   "cell_type": "code",
   "execution_count": 23,
   "metadata": {},
   "outputs": [
    {
     "data": {
      "text/plain": [
       "Text(0.5,0,'n values')"
      ]
     },
     "execution_count": 23,
     "metadata": {},
     "output_type": "execute_result"
    },
    {
     "data": {
      "image/png": "[encoded data removed]",
      "text/plain": [
       "<Figure size 432x288 with 1 Axes>"
      ]
     },
     "metadata": {},
     "output_type": "display_data"
    }
   ],
   "source": [
    "min_array = np.array(mins)\n",
    "error = 3-min_array\n",
    "plt.plot((error))\n",
    "plt.ylabel('Error in min value')\n",
    "plt.xlabel('n values')"
   ]
  },
  {
   "cell_type": "code",
   "execution_count": 26,
   "metadata": {},
   "outputs": [],
   "source": [
    "def interval_half(a,b,epsilon):\n",
    "\n",
    "    L = b-a #length of the interval\n",
    "    \n",
    "    while (abs(L) > epsilon):\n",
    "        wm = (a+b)/2 #middle point \n",
    "        jm = J(wm)\n",
    "        w1 = a+L/4\n",
    "        w2 = b-L/4\n",
    "        j1 = J(w1)\n",
    "        j2 = J(w2)\n",
    "        if j1 < jm:\n",
    "            b = wm\n",
    "            wm = w1\n",
    "            break\n",
    "        elif j2 < jm:\n",
    "            a = wm\n",
    "            wm = w2\n",
    "            break\n",
    "        else:\n",
    "            a = w1\n",
    "            b = w2\n",
    "        L = b-a\n",
    "    return f'Min lies between {a} and {b}'"
   ]
  },
  {
   "cell_type": "code",
   "execution_count": 27,
   "metadata": {},
   "outputs": [
    {
     "name": "stdout",
     "output_type": "stream",
     "text": [
      "Min lies between 2.99609375 and 3.00390625\n"
     ]
    }
   ],
   "source": [
    "print(interval_half(1,5,10e-3))"
   ]
  },
  {
   "cell_type": "code",
   "execution_count": 28,
   "metadata": {},
   "outputs": [
    {
     "name": "stdout",
     "output_type": "stream",
     "text": [
      "Min lies between 2.8949999999999996 and 3.1312499999999996\n"
     ]
    }
   ],
   "source": [
    "print(interval_half(1.95,3.84,10e-3))"
   ]
  }
 ],
 "metadata": {
  "kernelspec": {
   "display_name": "Python 3",
   "language": "python",
   "name": "python3"
  },
  "language_info": {
   "codemirror_mode": {
    "name": "ipython",
    "version": 3
   },
   "file_extension": ".py",
   "mimetype": "text/x-python",
   "name": "python",
   "nbconvert_exporter": "python",
   "pygments_lexer": "ipython3",
   "version": "3.6.5"
  }
 },
 "nbformat": 4,
 "nbformat_minor": 2
}
