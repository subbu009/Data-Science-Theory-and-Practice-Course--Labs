{
 "cells": [
  {
   "cell_type": "markdown",
   "metadata": {},
   "source": [
    "## Lab 5 - Classes and simple inheritance - 04/09/2021                        \n",
    " - by Subrahmanyam Gantasala MM20S300"
   ]
  },
  {
   "cell_type": "markdown",
   "metadata": {},
   "source": [
    "#### Q1) (Vikram) Using dictionary: \n",
    "\n",
    "Create a scorecard for a Cricket Tournament : \n",
    "\n",
    "A team consist of 5 players. Tournament consist of 3 or 4 matches. The dictionary will consist of the name (key) and runs scored in the match . (There will be 'n' number of input dictionary, n: number of matches in tournament.)\n",
    "\n",
    "Print following stats :\n",
    "\n",
    "Total number of runs scored in tournament by each player \n",
    "\n",
    "Average of each player (both 1 and 2 in form of dictionary)\n",
    "\n",
    "Highest Run getter "
   ]
  },
  {
   "cell_type": "code",
   "execution_count": 1,
   "metadata": {},
   "outputs": [],
   "source": [
    "#match scores\n",
    "match1_scores = {'Sachin':200,'Dravid':46,'Dhoni':36,'Virat':49,'Rohit':90}\n",
    "match2_scores = {'Sachin':100,'Dravid':62,'Dhoni':56,'Virat':99,'Rohit':50}\n",
    "match3_scores = {'Sachin':10,'Dravid':6,'Dhoni':22,'Virat':42,'Rohit':92}"
   ]
  },
  {
   "cell_type": "code",
   "execution_count": 2,
   "metadata": {},
   "outputs": [
    {
     "name": "stdout",
     "output_type": "stream",
     "text": [
      "Total scores of 5 players in the tournament :\n",
      " {'Sachin': 310, 'Dravid': 114, 'Dhoni': 114, 'Virat': 190, 'Rohit': 232}\n",
      "\n",
      "Average scores of 5 players in the tournament :\n",
      " {'Sachin': 103.33, 'Dravid': 38.0, 'Dhoni': 38.0, 'Virat': 63.33, 'Rohit': 77.33}\n",
      "\n",
      "Top scorer of the tournament is Sachin\n"
     ]
    }
   ],
   "source": [
    "#Printing stats\n",
    "#Total no.of runs\n",
    "tournament_scores = {}\n",
    "for key in match1_scores:\n",
    "    tournament_scores[key] = match1_scores[key]+match2_scores[key]+match3_scores[key]\n",
    "print(f'Total scores of 5 players in the tournament :\\n {tournament_scores}\\n')\n",
    "#Avg - defined by total score divided by no.of matches\n",
    "avg_scores = {}\n",
    "for key in tournament_scores:\n",
    "    avg_scores[key] = round(tournament_scores[key]/3 ,2)\n",
    "print(f'Average scores of 5 players in the tournament :\\n {avg_scores}')\n",
    "#Highest run getter\n",
    "top_runner = max(tournament_scores, key = lambda x:tournament_scores[x])\n",
    "print(f'\\nTop scorer of the tournament is {top_runner}')"
   ]
  },
  {
   "cell_type": "markdown",
   "metadata": {},
   "source": [
    "#### Q2) (Jonathan) Define a class Complex that defines a complex number with attributes real and imaginary. Define operators for addition, subtraction, multiplication and division (should work for ‘/’ and ‘//’) (Do with both operator overloading as well as without overloading).\n"
   ]
  },
  {
   "cell_type": "code",
   "execution_count": 3,
   "metadata": {},
   "outputs": [],
   "source": [
    "#complex class\n",
    "class Complex:\n",
    "    def __init__(self,real=0,imag=0):\n",
    "        self.real = real\n",
    "        self.imag = imag\n",
    "    def __add__(self,other):\n",
    "        s=Complex()\n",
    "        s.real = self.real+other.real\n",
    "        s.imag = self.imag+other.imag\n",
    "        return s\n",
    "    def addc(self,other):\n",
    "        s=Complex()\n",
    "        s.real = self.real+other.real\n",
    "        s.imag = self.imag+other.imag\n",
    "        return s\n",
    "    def __sub__(self,other):\n",
    "        s=Complex()\n",
    "        s.real = self.real-other.real\n",
    "        s.imag = self.imag-other.imag\n",
    "        return s\n",
    "    def subc(self,other):\n",
    "        s=Complex()\n",
    "        s.real = self.real-other.real\n",
    "        s.imag = self.imag-other.imag\n",
    "        return s\n",
    "    def __mul__(self,other):\n",
    "        s=Complex()\n",
    "        s.real = self.real*other.real - self.imag*other.imag\n",
    "        s.imag = self.imag*other.real + self.real*other.imag\n",
    "        return s\n",
    "    def mulc(self,other):\n",
    "        s=Complex()\n",
    "        s.real = self.real*other.real - self.imag*other.imag\n",
    "        s.imag = self.imag*other.real + self.real*other.imag\n",
    "        return s \n",
    "    def __truediv__(self,other):\n",
    "        s=Complex()\n",
    "        s.real = (self.real*other.real + self.imag*other.imag)/(other.real**2 + other.imag**2)\n",
    "        s.imag = (self.imag*other.real - self.real*other.imag)/(other.real**2 + other.imag**2)\n",
    "        return s\n",
    "    def divc(self,other):\n",
    "        s=Complex()\n",
    "        s.real = (self.real*other.real + self.imag*other.imag)/(other.real**2 + other.imag**2)\n",
    "        s.imag = (self.imag*other.real - self.real*other.imag)/(other.real**2 + other.imag**2)\n",
    "        return s\n",
    "    def __floordiv__(self,other):\n",
    "        s=Complex()\n",
    "        s.real = (self.real*other.real + self.imag*other.imag)//(other.real**2 + other.imag**2)\n",
    "        s.imag = (self.imag*other.real - self.real*other.imag)//(other.real**2 + other.imag**2)\n",
    "        return s\n",
    "    def divci(self,other):\n",
    "        s=Complex()\n",
    "        s.real = (self.real*other.real + self.imag*other.imag)//(other.real**2 + other.imag**2)\n",
    "        s.imag = (self.imag*other.real - self.real*other.imag)//(other.real**2 + other.imag**2)\n",
    "        return s\n",
    "    def printc(self):\n",
    "        if self.imag>0:\n",
    "            print(f'{self.real} + {self.imag}j')\n",
    "        else :\n",
    "            print(f'{self.real} - {abs(self.imag)}j')"
   ]
  },
  {
   "cell_type": "code",
   "execution_count": 4,
   "metadata": {},
   "outputs": [],
   "source": [
    "c1 = Complex(5,6)\n",
    "c2 = Complex(3,4)"
   ]
  },
  {
   "cell_type": "code",
   "execution_count": 5,
   "metadata": {},
   "outputs": [
    {
     "name": "stdout",
     "output_type": "stream",
     "text": [
      "Addition of c1 and c2 is\n",
      "8 + 10j\n",
      "Addition of c1 and c2 is\n",
      "8 + 10j\n",
      "Subtraction of c1 and c2 is\n",
      "2 + 2j\n",
      "Subtraction of c1 and c2 is\n",
      "2 + 2j\n",
      "Multiplication of c1 and c2 is\n",
      "-9 + 38j\n",
      "Multiplication of c1 and c2 is\n",
      "-9 + 38j\n",
      "Division of c1 and c2 is\n",
      "1.56 - 0.08j\n",
      "Division of c1 and c2 is\n",
      "1.56 - 0.08j\n",
      "Floor Division of c1 and c2 is\n",
      "1 - 1j\n",
      "Floor Division of c1 and c2 is\n",
      "1 - 1j\n"
     ]
    }
   ],
   "source": [
    "#add\n",
    "c3 = c1+c2\n",
    "print(f'Addition of c1 and c2 is')\n",
    "c3.printc()\n",
    "c4 = c1.addc(c2)\n",
    "print(f'Addition of c1 and c2 is')\n",
    "c4.printc()\n",
    "\n",
    "#sub\n",
    "c5 = c1-c2\n",
    "print(f'Subtraction of c1 and c2 is')\n",
    "c5.printc()\n",
    "c6 = c1.subc(c2)\n",
    "print(f'Subtraction of c1 and c2 is')\n",
    "c6.printc()\n",
    "\n",
    "#mul\n",
    "c7 = c1*c2\n",
    "print(f'Multiplication of c1 and c2 is')\n",
    "c7.printc()\n",
    "c8 = c1.mulc(c2)\n",
    "print(f'Multiplication of c1 and c2 is')\n",
    "c8.printc()\n",
    "\n",
    "#div\n",
    "c9 = c1/c2\n",
    "print(f'Division of c1 and c2 is')\n",
    "c9.printc()\n",
    "c10 = c1.divc(c2)\n",
    "print(f'Division of c1 and c2 is')\n",
    "c10.printc()\n",
    "\n",
    "#floor div\n",
    "c11 = c1//c2\n",
    "print(f'Floor Division of c1 and c2 is')\n",
    "c11.printc()\n",
    "c12 = c1.divci(c2)\n",
    "print(f'Floor Division of c1 and c2 is')\n",
    "c12.printc()\n"
   ]
  },
  {
   "cell_type": "markdown",
   "metadata": {},
   "source": [
    "#### Q3) (Ramanathan) Define a Matrix class of dimensions m X n (the values for m and n can be taken as input). Demonstrate matrix addition, subtraction, multiplication, element-by-element multiplication, scalar multiplication etc. Use operator overloading wherever possible."
   ]
  },
  {
   "cell_type": "code",
   "execution_count": 145,
   "metadata": {},
   "outputs": [],
   "source": [
    "class Matrix(object):\n",
    "    def __init__(self, mat=None, rows=None, cols=None):\n",
    "        if mat:\n",
    "            self.data = mat\n",
    "        else:\n",
    "            self.data = [[0 for c in range(cols)] for r in range(rows)]\n",
    "        self.rows = len(self.data)\n",
    "        self.cols = len(self.data[0])\n",
    "        \n",
    "    def shape(self):          # myMatrix.shape -> (4,3)\n",
    "        return (self.rows, self.cols)\n",
    "    def __getitem__(self, i): # lets you do myMatrix[row][col\n",
    "        return self.data[i]\n",
    "    def __str__(self):        # pretty string formatting\n",
    "        return pf(self.data)\n",
    "    def __add__(self, other):\n",
    "        mat = Matrix(rows=self.rows,cols=self.cols)\n",
    "        mat = [[self.data[i][j]+other[i][j] for j in range(self.cols)] for i in range(self.rows)]\n",
    "        return mat\n",
    "    def __sub__(self, other):\n",
    "        mat = Matrix(rows=self.rows,cols=self.cols)\n",
    "        mat = [[self.data[i][j]-other[i][j] for j in range(self.cols)] for i in range(self.rows)]\n",
    "        return mat\n",
    "    #element by element multiplication\n",
    "    def __mul__(self, other):\n",
    "        mat = Matrix(rows=self.rows,cols=self.cols)\n",
    "        mat = [[self.data[i][j]*other[i][j] for j in range(self.cols)] for i in range(self.rows)]\n",
    "        return mat\n",
    "    def matmul(self,other):\n",
    "        mat = Matrix(rows=self.rows,cols=self.cols)\n",
    "        for i in range(len(self.data)):\n",
    "            for j in range(len(other[0])):\n",
    "                for k in range(len(other)):\n",
    "                    mat[i][j] += self.data[i][k] * other[k][j]\n",
    "    def scalar_mul(self,other):\n",
    "        mat = Matrix(rows=self.rows,cols=self.cols)\n",
    "        mat = [[self.data[i][j]*other for j in range(self.cols)] for i in range(self.rows)]\n",
    "        return mat"
   ]
  },
  {
   "cell_type": "code",
   "execution_count": 146,
   "metadata": {},
   "outputs": [],
   "source": [
    "m1 = Matrix([[1,2],[3,4],[5,6]])"
   ]
  },
  {
   "cell_type": "code",
   "execution_count": 147,
   "metadata": {},
   "outputs": [],
   "source": [
    "m2 = Matrix([[1,2],[3,4],[5,7]])"
   ]
  },
  {
   "cell_type": "code",
   "execution_count": 148,
   "metadata": {},
   "outputs": [],
   "source": [
    "m3=m1+m2"
   ]
  },
  {
   "cell_type": "code",
   "execution_count": 149,
   "metadata": {},
   "outputs": [
    {
     "data": {
      "text/plain": [
       "[[2, 4], [6, 8], [10, 13]]"
      ]
     },
     "execution_count": 149,
     "metadata": {},
     "output_type": "execute_result"
    }
   ],
   "source": [
    "m3"
   ]
  },
  {
   "cell_type": "markdown",
   "metadata": {},
   "source": [
    "#### Q4)  (Prasad) Create a class Polygon(),inherit a class Square() from the polygon class, define the length of side of square in parent class(Polygon)using __init__,() and use that in Inherited class, define a method findarea() inside inherited class(Square) which finds area of the square and returns it"
   ]
  },
  {
   "cell_type": "code",
   "execution_count": 6,
   "metadata": {},
   "outputs": [
    {
     "name": "stdout",
     "output_type": "stream",
     "text": [
      "Area of the given square is 4 sq units\n"
     ]
    }
   ],
   "source": [
    "#Polygon class\n",
    "class Polygon:\n",
    "    def __init__(self,n):\n",
    "        self.n = n #length of side\n",
    "#Inherit square class from polygon class\n",
    "class Square(Polygon):\n",
    "    def findarea(self):\n",
    "        return self.n**2\n",
    "sq1 = Square(2) #2- length of side of the square\n",
    "print(f'Area of the given square is {sq1.findarea()} sq units')"
   ]
  },
  {
   "cell_type": "markdown",
   "metadata": {},
   "source": [
    "#### Q5) (Chinmayi)\n",
    "Create a parent class “bill”, with the properties “Name” and “Purchase”, both of which are strings. Define a method to extract the purchase details from the string, and return a 2-D array (n x 2) of purchased items and their number.\n",
    "\n",
    "Create 2 child classes, restaurant bill and grocery bill, with an additional property menu and price list respectively (given as strings). Define a method to extract the item prices as a 2-D (n x 2) array from the menu/price list strings. Define a method to calculate the bill total, by using the price array and order array.\n",
    "\n",
    "NOTE:--The strings will be of the following format;\n",
    "“Name”: “Hinata” (name of the customer)\n",
    " “Purchase”: “Item1 x 1,Item2 x 3,Item3 x 1” (Item x number needed )\n",
    " “Menu”: “Item1 - 100,Item2 - 70,Item3 - 250” (Item - price )\n",
    " “Price List”: “Item1 100,Item2 70,Item3 250” (Item price )"
   ]
  },
  {
   "cell_type": "code",
   "execution_count": 7,
   "metadata": {},
   "outputs": [],
   "source": [
    "class Bill:\n",
    "    def __init__(self,name,purchase):\n",
    "        self.name = name\n",
    "        self.purchase = purchase\n",
    "    def getpurchase(self):\n",
    "        m = [i.split(' x') for i in self.purchase.split(',')]\n",
    "        for i in m:\n",
    "            i[1] = int(i[1])\n",
    "        return m\n",
    "        "
   ]
  },
  {
   "cell_type": "code",
   "execution_count": 8,
   "metadata": {},
   "outputs": [],
   "source": [
    "class RestaurantBill(Bill):\n",
    "    def __init__(self,name,purchase,menu,price):\n",
    "        super().__init__(name,purchase)\n",
    "        self.menu = menu\n",
    "        self.price = price\n",
    "    def getprice(self):\n",
    "        m = [i.split(' ') for i in self.price.split(',')]\n",
    "        for i in m:\n",
    "            i[1] = int(i[1])\n",
    "        return m\n",
    "    def getmenu(self):\n",
    "        m = [i.split('-') for i in self.menu.split(',')]\n",
    "        for i in m:\n",
    "            i[1] = int(i[1])\n",
    "        return m\n",
    "    def totalbill(self):\n",
    "        tot={}\n",
    "        pur = dict(self.getpurchase())\n",
    "        pri = dict(self.getprice())\n",
    "        for key in pur.keys():\n",
    "            if key in pri.keys():\n",
    "                tot[key] = pur[key]*pri[key]\n",
    "        return sum(tot.values())\n"
   ]
  },
  {
   "cell_type": "code",
   "execution_count": 9,
   "metadata": {},
   "outputs": [],
   "source": [
    "class GroceryBill(Bill):\n",
    "    def __init__(self,name,purchase,menu,price):\n",
    "        super().__init__(name,purchase)\n",
    "        self.menu = menu\n",
    "        self.price = price\n",
    "    def getprice(self):\n",
    "        m = [i.split(' ') for i in self.price.split(',')]\n",
    "        for i in m:\n",
    "            i[1] = int(i[1])\n",
    "        return m\n",
    "    def getmenu(self):\n",
    "        m = [i.split('-') for i in self.menu.split(',')]\n",
    "        for i in m:\n",
    "            i[1] = int(i[1])\n",
    "        return m\n",
    "    def totalbill(self):\n",
    "        tot={}\n",
    "        pur = dict(self.purchase)\n",
    "        pri = dict(self.price)\n",
    "        for key in pur.keys():\n",
    "            if key in pri.keys():\n",
    "                tot[key] = pur[key]*pri[key]\n",
    "        return sum(tot.values())\n"
   ]
  },
  {
   "cell_type": "code",
   "execution_count": 10,
   "metadata": {},
   "outputs": [],
   "source": [
    "r = RestaurantBill('Hinata',\"Item1 x 1,Item2 x 2,Item3 x 1\", \"Item1 - 100,Item2 - 70,Item3 - 250\",\"Item1 100,Item2 70,Item3 250\" )"
   ]
  },
  {
   "cell_type": "code",
   "execution_count": 11,
   "metadata": {},
   "outputs": [
    {
     "data": {
      "text/plain": [
       "[['Item1', 100], ['Item2', 70], ['Item3', 250]]"
      ]
     },
     "execution_count": 11,
     "metadata": {},
     "output_type": "execute_result"
    }
   ],
   "source": [
    "r.getprice()"
   ]
  },
  {
   "cell_type": "code",
   "execution_count": 12,
   "metadata": {},
   "outputs": [
    {
     "data": {
      "text/plain": [
       "[['Item1', 1], ['Item2', 2], ['Item3', 1]]"
      ]
     },
     "execution_count": 12,
     "metadata": {},
     "output_type": "execute_result"
    }
   ],
   "source": [
    "r.getpurchase()"
   ]
  },
  {
   "cell_type": "code",
   "execution_count": 13,
   "metadata": {},
   "outputs": [
    {
     "data": {
      "text/plain": [
       "[['Item1 ', 100], ['Item2 ', 70], ['Item3 ', 250]]"
      ]
     },
     "execution_count": 13,
     "metadata": {},
     "output_type": "execute_result"
    }
   ],
   "source": [
    "r.getmenu()"
   ]
  },
  {
   "cell_type": "code",
   "execution_count": 14,
   "metadata": {},
   "outputs": [
    {
     "data": {
      "text/plain": [
       "'Hinata'"
      ]
     },
     "execution_count": 14,
     "metadata": {},
     "output_type": "execute_result"
    }
   ],
   "source": [
    "r.name"
   ]
  },
  {
   "cell_type": "code",
   "execution_count": 15,
   "metadata": {},
   "outputs": [
    {
     "data": {
      "text/plain": [
       "490"
      ]
     },
     "execution_count": 15,
     "metadata": {},
     "output_type": "execute_result"
    }
   ],
   "source": [
    "r.totalbill()"
   ]
  },
  {
   "cell_type": "markdown",
   "metadata": {},
   "source": [
    "#### Q6) (Prasad) \n",
    "  - Create a class named Dataset,\n",
    "  - Inside class Dataset,use constructor to input the data,target.(data- random list of list of size (mxn),target- list of list containing zeros and ones of size (m×1))\n",
    "  - Create method named sizeofdata() inside the class that returns size of data as well as targe\n",
    "  - Create a method named idx_data(self,idx)  inside the class ,that takes index(idx) of the list of list as an input and returns information corresponding to that index in data array."
   ]
  },
  {
   "cell_type": "code",
   "execution_count": 53,
   "metadata": {},
   "outputs": [],
   "source": [
    "class Dataset:\n",
    "    def __init__(self,data,target):\n",
    "        self.data = data\n",
    "        self.target = target\n",
    "    def sizeofdata(self):\n",
    "        d = (len(self.data),len(self.data[0]))\n",
    "        t = (len(self.target),len(self.target[0]))\n",
    "        return d,t\n",
    "        print(f'Size of data : {d}\\nSize of target {t}')\n",
    "    def idx_data(self,idx):\n",
    "        return data[idx]"
   ]
  },
  {
   "cell_type": "code",
   "execution_count": 54,
   "metadata": {},
   "outputs": [],
   "source": [
    "data = [[1,2],[2,3],[3,4]]"
   ]
  },
  {
   "cell_type": "code",
   "execution_count": 55,
   "metadata": {},
   "outputs": [],
   "source": [
    "target = [[1],[0],[1]]"
   ]
  },
  {
   "cell_type": "code",
   "execution_count": 56,
   "metadata": {},
   "outputs": [],
   "source": [
    "d1 = Dataset(data,target)"
   ]
  },
  {
   "cell_type": "code",
   "execution_count": 57,
   "metadata": {},
   "outputs": [
    {
     "data": {
      "text/plain": [
       "((3, 2), (3, 1))"
      ]
     },
     "execution_count": 57,
     "metadata": {},
     "output_type": "execute_result"
    }
   ],
   "source": [
    "d1.sizeofdata()"
   ]
  },
  {
   "cell_type": "code",
   "execution_count": 58,
   "metadata": {},
   "outputs": [
    {
     "data": {
      "text/plain": [
       "[2, 3]"
      ]
     },
     "execution_count": 58,
     "metadata": {},
     "output_type": "execute_result"
    }
   ],
   "source": [
    "d1.idx_data(1)"
   ]
  },
  {
   "cell_type": "markdown",
   "metadata": {},
   "source": [
    "#### Q7) (Sushma) \n",
    "Make a table to show which arithmetic operators are overloaded by what classes. (For example: '+' operator is overloaded  by int and str classes)\n",
    "Python provides some special function or magic function that is automatically invoked when it is associated with that particular operator. For example, when we use + operator, the magic method __add__ is automatically invoked in which the operation for + operator is defined. Try changing this magic method's code to give extra meaning to the + operator. Do the same for ‘-’, ‘*’ and ‘**’ operators."
   ]
  },
  {
   "cell_type": "code",
   "execution_count": 87,
   "metadata": {},
   "outputs": [
    {
     "name": "stdout",
     "output_type": "stream",
     "text": [
      "╒════════════╤═══════════════════════════╤════════════════════╕\n",
      "│ Operator   │ Magic Method              │ Classes            │\n",
      "╞════════════╪═══════════════════════════╪════════════════════╡\n",
      "│ +          │ __add__(self, other)      │ int,float,str,list │\n",
      "├────────────┼───────────────────────────┼────────────────────┤\n",
      "│ -          │ __sub__(self, other)      │ int,float          │\n",
      "├────────────┼───────────────────────────┼────────────────────┤\n",
      "│ *          │ __mul__(self, other)      │ int,str            │\n",
      "├────────────┼───────────────────────────┼────────────────────┤\n",
      "│ /          │ __truediv__(self, other)  │ int,float          │\n",
      "├────────────┼───────────────────────────┼────────────────────┤\n",
      "│ //         │ __floordiv__(self, other) │ int,float          │\n",
      "├────────────┼───────────────────────────┼────────────────────┤\n",
      "│ %          │ __mod__(self, other)      │ int,float          │\n",
      "├────────────┼───────────────────────────┼────────────────────┤\n",
      "│ **         │ __pow__(self,other)       │ int,float          │\n",
      "╘════════════╧═══════════════════════════╧════════════════════╛\n"
     ]
    }
   ],
   "source": [
    "from tabulate import tabulate\n",
    "operators = ['+','-','*','/','//','%','**']\n",
    "methods = ['__add__(self, other)','__sub__(self, other)','__mul__(self, other)','__truediv__(self, other)','__floordiv__(self, other)','__mod__(self, other)', '__pow__(self,other)']\n",
    "classes = ['int,float,str,list','int,float','int,str','int,float','int,float','int,float','int,float']\n",
    "lis = []\n",
    "for i in range(len(operators)):\n",
    "    lis.append([operators[i],methods[i],classes[i]])\n",
    "table = tabulate(lis,headers=['Operator', 'Magic Method','Classes'], tablefmt='fancy_grid')\n",
    "print(table)"
   ]
  },
  {
   "cell_type": "code",
   "execution_count": 96,
   "metadata": {},
   "outputs": [],
   "source": [
    "class A:\n",
    "    def __init__(self,a):\n",
    "        self.a = a\n",
    "    def __add__(self,other):\n",
    "        print(f'The addition of {self.a} and {other.a} is {self.a+other.a}')\n",
    "        return self.a + other.a\n",
    "    def __sub__(self,other):\n",
    "        print(f'The subtraction of {self.a} and {other.a} is {self.a-other.a}')\n",
    "        return self.a - other.a\n",
    "    def __mul__(self,other):\n",
    "        print(f'The multiplication of {self.a} and {other.a} is {self.a*other.a}')\n",
    "        return self.a * other.a\n",
    "    def __pow__(self,other):\n",
    "        print(f'The power of {self.a} to {other.a} is {self.a**other.a}')\n",
    "        return self.a ** other.a\n",
    "        "
   ]
  },
  {
   "cell_type": "markdown",
   "metadata": {},
   "source": [
    "#### Q8) (Vikram) \n",
    " - Create a Data base for Company Employees: All employees have some common attributes ( Name, Age,Salary) .\n",
    " - Create \n",
    "  - a subclass for 'Manager' that has list of employees assigned to it . There should be provision to add and remove the employees in this list .\n",
    "   - subclass for 'developer' :that contains the coding language that developer works in.\n",
    "   - Print the updated salary amount when raise is given to a particular employee. (%of salary increased will be different for both positions)"
   ]
  },
  {
   "cell_type": "code",
   "execution_count": 66,
   "metadata": {},
   "outputs": [],
   "source": [
    "class Employee:\n",
    "    def __init__(self,name='',age = 0,sal = 0):\n",
    "        self.name = name\n",
    "        self.age = age\n",
    "        self.sal = sal\n",
    "    def raise_sal(self,per):\n",
    "        self.sal = self.sal + 0.01*per*self.sal\n",
    "        return self.sal\n",
    "\n",
    "class Manager(Employee):\n",
    "    def __init__(self,name,age,sal,emp=[]):\n",
    "        super().__init__(name,age,sal)\n",
    "        self.emp = emp\n",
    "    def addemp(self,n):\n",
    "        self.emp.append(n)\n",
    "        return self.emp\n",
    "    def rememp(self,n):\n",
    "        self.emp.remove(n)\n",
    "        return self.emp\n",
    "\n",
    "class Developer(Employee):\n",
    "    def __init__(self,name,age,sal,lang=''):\n",
    "        super().__init__(name,age,sal)\n",
    "        self.lang = lang\n",
    "        \n"
   ]
  },
  {
   "cell_type": "code",
   "execution_count": 67,
   "metadata": {},
   "outputs": [],
   "source": [
    "m1 = Manager('Ram',30,10) #salary in LPA"
   ]
  },
  {
   "cell_type": "code",
   "execution_count": 68,
   "metadata": {},
   "outputs": [],
   "source": [
    "s1 = Developer('Shyam',24,6)"
   ]
  },
  {
   "cell_type": "code",
   "execution_count": 69,
   "metadata": {},
   "outputs": [
    {
     "data": {
      "text/plain": [
       "6"
      ]
     },
     "execution_count": 69,
     "metadata": {},
     "output_type": "execute_result"
    }
   ],
   "source": [
    "s1.sal"
   ]
  },
  {
   "cell_type": "code",
   "execution_count": 70,
   "metadata": {},
   "outputs": [
    {
     "data": {
      "text/plain": [
       "6.3"
      ]
     },
     "execution_count": 70,
     "metadata": {},
     "output_type": "execute_result"
    }
   ],
   "source": [
    "s1.raise_sal(5)"
   ]
  }
 ],
 "metadata": {
  "kernelspec": {
   "display_name": "Python 3",
   "language": "python",
   "name": "python3"
  },
  "language_info": {
   "codemirror_mode": {
    "name": "ipython",
    "version": 3
   },
   "file_extension": ".py",
   "mimetype": "text/x-python",
   "name": "python",
   "nbconvert_exporter": "python",
   "pygments_lexer": "ipython3",
   "version": "3.6.5"
  }
 },
 "nbformat": 4,
 "nbformat_minor": 2
}
