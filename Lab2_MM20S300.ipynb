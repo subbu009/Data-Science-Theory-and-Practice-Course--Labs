{
 "cells": [
  {
   "cell_type": "markdown",
   "metadata": {},
   "source": [
    "### Question 1\n",
    "### Convert the string 'Light is faster than sound' to \"LIGHT Is Faster Than SOUND.\"\n"
   ]
  },
  {
   "cell_type": "code",
   "execution_count": 1,
   "metadata": {},
   "outputs": [
    {
     "name": "stdout",
     "output_type": "stream",
     "text": [
      "LIGHT Is Faster Than SOUND\n"
     ]
    }
   ],
   "source": [
    "str1 = 'Light is faster than sound'\n",
    "list1 = str1.split()\n",
    "list1[0] = list1[0].upper()\n",
    "list1[1] = list1[1].capitalize()\n",
    "list1[2] = list1[2].capitalize()\n",
    "list1[3] = list1[3].capitalize()\n",
    "list1[4] = list1[4].upper()\n",
    "str1 = ' '.join(list1)\n",
    "print(str1)"
   ]
  },
  {
   "cell_type": "markdown",
   "metadata": {},
   "source": [
    "### Question 2\n",
    "### Check if a given string is a palindrome (the reverse of the string is the string itself, e.g., Never odd or even)"
   ]
  },
  {
   "cell_type": "code",
   "execution_count": 2,
   "metadata": {},
   "outputs": [
    {
     "name": "stdout",
     "output_type": "stream",
     "text": [
      "Enter a string: madam\n",
      "The given string is a palindrome!\n"
     ]
    }
   ],
   "source": [
    "string = input('Enter a string: ')\n",
    "def palindrome(string):\n",
    "    if string[::-1] == string:\n",
    "        return ('The given string is a palindrome!')\n",
    "    else:\n",
    "        return ('The given string is not a palindrome!')\n",
    "\n",
    "print(palindrome(string))"
   ]
  },
  {
   "cell_type": "markdown",
   "metadata": {},
   "source": [
    "### Question 3\n",
    "### For a string S and a pattern P, check whether P is present in S. If so, print the (first) index of occurrence, else print -1"
   ]
  },
  {
   "cell_type": "code",
   "execution_count": 3,
   "metadata": {},
   "outputs": [
    {
     "name": "stdout",
     "output_type": "stream",
     "text": [
      "6\n"
     ]
    }
   ],
   "source": [
    "string = \"I'm a good student\"\n",
    "pattern = 'good'\n",
    "\n",
    "if pattern in string:\n",
    "    print(string.index(pattern))\n",
    "else:\n",
    "    print(-1)"
   ]
  },
  {
   "cell_type": "markdown",
   "metadata": {},
   "source": [
    "### Question 4\n",
    "### Check if a given number is a prime number."
   ]
  },
  {
   "cell_type": "code",
   "execution_count": 4,
   "metadata": {},
   "outputs": [
    {
     "name": "stdout",
     "output_type": "stream",
     "text": [
      "Enter a number: 444\n",
      "444 is not a prime\n"
     ]
    }
   ],
   "source": [
    "n = int(input('Enter a number: '))\n",
    "\n",
    "prime = False\n",
    "if n >1 :\n",
    "    for i in range(2,n):\n",
    "        if n%i == 0:\n",
    "            prime = True\n",
    "            break\n",
    "\n",
    "if prime:\n",
    "    print(f'{n} is not a prime')\n",
    "else:\n",
    "    print(f'{n} is prime')\n",
    "        "
   ]
  },
  {
   "cell_type": "markdown",
   "metadata": {},
   "source": [
    "### Question 5\n",
    "### In the class, we saw different approaches to solve the largest (or smallest) of three numbers. \n",
    "\n",
    "(a) WAP them to demonstrate them. \n",
    "\n",
    "(b) The same can be solved using 'conditional expression'. Find out what is that and solve the same problem using (i) two different conditional expressions (ii) only one line conditional expression (i.e. nested)"
   ]
  },
  {
   "cell_type": "code",
   "execution_count": 5,
   "metadata": {},
   "outputs": [
    {
     "name": "stdout",
     "output_type": "stream",
     "text": [
      "1\n",
      "2\n",
      "3\n",
      "The largest number is 3.0\n"
     ]
    }
   ],
   "source": [
    "#a)\n",
    "\n",
    "a = float(input())\n",
    "b = float(input())\n",
    "c = float(input())\n",
    "\n",
    "if a>=b:\n",
    "    if a>=c:\n",
    "        largest = a\n",
    "if b>=a:\n",
    "    if b>=c:\n",
    "        largest = b\n",
    "if c>=a:\n",
    "    if c>=b:\n",
    "        largest = c\n",
    "        \n",
    "print(f'The largest number is {largest}')"
   ]
  },
  {
   "cell_type": "code",
   "execution_count": 6,
   "metadata": {},
   "outputs": [
    {
     "name": "stdout",
     "output_type": "stream",
     "text": [
      "3\n",
      "4\n",
      "5\n",
      "The largest number is 5.0\n"
     ]
    }
   ],
   "source": [
    "#b) i)\n",
    "\n",
    "a = float(input())\n",
    "b = float(input())\n",
    "c = float(input())\n",
    "\n",
    "\n",
    "if (a>=b) and (a>=c):\n",
    "    largest = a\n",
    "elif (b>=a) and (b>=c):\n",
    "    largest = b\n",
    "else :\n",
    "    largest = c\n",
    "    \n",
    "print(f'The largest number is {largest}')"
   ]
  },
  {
   "cell_type": "code",
   "execution_count": 7,
   "metadata": {},
   "outputs": [
    {
     "name": "stdout",
     "output_type": "stream",
     "text": [
      "22\n",
      "44\n",
      "55.77\n",
      "The largest number is 55.77\n"
     ]
    }
   ],
   "source": [
    "#b ii)\n",
    "a = float(input())\n",
    "b = float(input())\n",
    "c = float(input())\n",
    "\n",
    "if a>=b>=c:\n",
    "    largest = a\n",
    "elif b>=c:\n",
    "    largest = b\n",
    "else:\n",
    "    largest = c\n",
    "\n",
    "print(f'The largest number is {largest}')"
   ]
  },
  {
   "cell_type": "markdown",
   "metadata": {},
   "source": [
    "### Question 6\n",
    "### Find about continue, and pass statements and WAP to demonstrate them. "
   ]
  },
  {
   "cell_type": "code",
   "execution_count": 8,
   "metadata": {},
   "outputs": [
    {
     "name": "stdout",
     "output_type": "stream",
     "text": [
      "0\n",
      "1\n",
      "2\n",
      "4\n"
     ]
    }
   ],
   "source": [
    "# continue statement is used in a loop to force the execution of next iteration\n",
    "\n",
    "for i in range(5):\n",
    "    if i == 3:\n",
    "        continue\n",
    "    else:\n",
    "        print(i)\n",
    "#here the loop continues without printing 3, since we used continue statement \n",
    "\n",
    "#pass statement is used as a placeholder to do nothing\n",
    "\n",
    "for i in range(5):\n",
    "    pass"
   ]
  },
  {
   "cell_type": "markdown",
   "metadata": {},
   "source": [
    "### Question 7\n",
    "### Using loops, compute the series for (a) exp(x), (b) sin x and (c) cos x, taking input as x (and you can also take input for the number of terms to be computed in the series)."
   ]
  },
  {
   "cell_type": "code",
   "execution_count": 10,
   "metadata": {},
   "outputs": [
    {
     "name": "stdout",
     "output_type": "stream",
     "text": [
      "Enter a number: 5\n",
      "Required no. of terms in the series: 100\n",
      "148.41315910257657\n"
     ]
    }
   ],
   "source": [
    "x = input('Enter a number: ')\n",
    "x = float(x)\n",
    "s = int(input('Required no. of terms in the series: '))\n",
    "#factorial of a number\n",
    "def fact(n):\n",
    "    if n == 0:\n",
    "        return 1\n",
    "    elif n == 1:\n",
    "        return 1\n",
    "    else :\n",
    "        return n*fact(n-1)\n",
    "\n",
    "#a) exp(x)\n",
    "def exponential(x,s):\n",
    "    exp_x = 0\n",
    "    for i in range(s):\n",
    "        exp_x += (x**i)/fact(i)\n",
    "    return exp_x\n",
    "\n",
    "print(exponential(x,s))        "
   ]
  },
  {
   "cell_type": "code",
   "execution_count": 43,
   "metadata": {},
   "outputs": [
    {
     "name": "stdout",
     "output_type": "stream",
     "text": [
      "Enter an angle in degrees: 180\n",
      "No of terms: 10\n",
      "cosine of angle 180.0 is -0.9759261283494297\n",
      "sine of angle 180.0 is 0.0056911616395623615\n"
     ]
    }
   ],
   "source": [
    "#b) cos(x),sin(x) x in degrees\n",
    "x = input('Enter an angle in degrees: ')\n",
    "x = float(x)\n",
    "s = int(input('No of terms: '))\n",
    "\n",
    "def cosine(x,s):\n",
    "    cosx = 1\n",
    "    sign = -1\n",
    "    for i in range(2, s, 2):\n",
    "        pi=22/7\n",
    "        y=x*(pi/180)\n",
    "        cosx = cosx + (sign*(y**i))/fact(i)\n",
    "        sign = -sign\n",
    "    return cosx  \n",
    "def sine(x,s):\n",
    "    sinx = 0\n",
    "    sign = 1\n",
    "    for i in range(1, s, 2):\n",
    "        pi=22/7\n",
    "        y=x*(pi/180)\n",
    "        sinx = sinx + (sign*(y**i))/fact(i)\n",
    "        sign = -sign\n",
    "    return sinx\n",
    "\n",
    "print(f'cosine of angle {x} is {cosine(x,s)}')\n",
    "print(f'sine of angle {x} is {sine(x,s)}')"
   ]
  },
  {
   "cell_type": "markdown",
   "metadata": {},
   "source": [
    "### Question 8\n",
    "### WAP to print numbers 1 to 10 on the same line, breaking out of an infinite loop."
   ]
  },
  {
   "cell_type": "code",
   "execution_count": 51,
   "metadata": {},
   "outputs": [
    {
     "name": "stdout",
     "output_type": "stream",
     "text": [
      "1 2 3 4 5 6 7 8 9 10 "
     ]
    }
   ],
   "source": [
    "i=1\n",
    "while True:\n",
    "    print(i,end=' ')\n",
    "    i=i+1\n",
    "    if i == 11:\n",
    "        break"
   ]
  },
  {
   "cell_type": "markdown",
   "metadata": {},
   "source": [
    "### Question 9\n",
    "### WAP to print all unique combinations of 1, 2 and 3."
   ]
  },
  {
   "cell_type": "code",
   "execution_count": 53,
   "metadata": {},
   "outputs": [
    {
     "name": "stdout",
     "output_type": "stream",
     "text": [
      "123\n",
      "132\n",
      "213\n",
      "231\n",
      "312\n",
      "321\n"
     ]
    }
   ],
   "source": [
    "for i in range(1,4):\n",
    "    for j in range(1,4):\n",
    "        for k in range(1,4):\n",
    "            if (i!=j & j!=k & k!=i):\n",
    "                print(f'{i}{j}{k}')"
   ]
  },
  {
   "cell_type": "markdown",
   "metadata": {},
   "source": [
    "### Question 10\n",
    "### Given an integer, find out the sum of its digits."
   ]
  },
  {
   "cell_type": "code",
   "execution_count": 60,
   "metadata": {},
   "outputs": [
    {
     "name": "stdout",
     "output_type": "stream",
     "text": [
      "Enter an integer: 12344\n",
      "The sum of digits of 12344 is 14\n"
     ]
    }
   ],
   "source": [
    "n = input('Enter an integer: ')\n",
    "s=0\n",
    "for i in n:\n",
    "    s += int(i)\n",
    "print(f'The sum of digits of {n} is {s}')"
   ]
  },
  {
   "cell_type": "markdown",
   "metadata": {},
   "source": [
    "### Question 11\n",
    "### Create a list of random integers in range(1,100) , find the median of the numbers in the list, later divide the list into two sublists with respect to the median."
   ]
  },
  {
   "cell_type": "code",
   "execution_count": 80,
   "metadata": {},
   "outputs": [
    {
     "name": "stdout",
     "output_type": "stream",
     "text": [
      "[1, 2, 3, 3, 5, 5, 6, 7, 8, 9, 10, 10, 11, 12, 12, 14, 14, 16, 17, 17, 17, 18, 21, 23, 24, 25, 25, 26, 27, 28, 30, 30, 32, 33, 34, 34, 35, 35, 38, 38, 41, 41, 42, 42, 45, 46, 47, 52, 54, 56, 57, 57, 59, 60, 63, 64, 64, 64, 65, 65, 69, 69, 71, 71, 72, 72, 72, 73, 73, 73, 74, 74, 76, 77, 77, 78, 79, 80, 80, 80, 81, 81, 81, 82, 82, 87, 89, 89, 90, 90, 91, 92, 93, 94, 95, 96, 97, 97, 97, 98]\n",
      "Median is 56.5\n",
      "[1, 2, 3, 3, 5, 5, 6, 7, 8, 9, 10, 10, 11, 12, 12, 14, 14, 16, 17, 17, 17, 18, 21, 23, 24, 25, 25, 26, 27, 28, 30, 30, 32, 33, 34, 34, 35, 35, 38, 38, 41, 41, 42, 42, 45, 46, 47, 52, 54, 56]\n",
      "[57, 57, 59, 60, 63, 64, 64, 64, 65, 65, 69, 69, 71, 71, 72, 72, 72, 73, 73, 73, 74, 74, 76, 77, 77, 78, 79, 80, 80, 80, 81, 81, 81, 82, 82, 87, 89, 89, 90, 90, 91, 92, 93, 94, 95, 96, 97, 97, 97, 98]\n"
     ]
    }
   ],
   "source": [
    "import random\n",
    "lis = [random.randrange(1,100) for i in range(100)]\n",
    "n=len(lis)\n",
    "lis.sort()\n",
    "\n",
    "if n%2 !=0:\n",
    "    median = lis[n//2]\n",
    "else:\n",
    "    m1 = lis[n//2]\n",
    "    m2 = lis[n//2 -1]\n",
    "    median  = (m1+m2)/2\n",
    "print(lis)\n",
    "print(f'Median is {median}')\n",
    "lis1 = lis[0:n//2]\n",
    "lis2 = lis[n//2:]\n",
    "print(lis1)\n",
    "print(lis2)"
   ]
  },
  {
   "cell_type": "markdown",
   "metadata": {},
   "source": [
    "### Question 12\n",
    "### WAP to sort the list A=[5,3,1,2,4,0] in descending order i.e [5,4,3,2,1,0] ( dont use any inbuilt function for this)"
   ]
  },
  {
   "cell_type": "code",
   "execution_count": 85,
   "metadata": {},
   "outputs": [
    {
     "name": "stdout",
     "output_type": "stream",
     "text": [
      "[5, 4, 3, 2, 1, 0]\n"
     ]
    }
   ],
   "source": [
    "A = [5,3,1,2,4,0]\n",
    "for i in range(len(A)):\n",
    "    for j in range(i+1,len(A)):\n",
    "        if A[i]<A[j]:\n",
    "            A[i],A[j] = A[j],A[i]\n",
    "print(A)"
   ]
  },
  {
   "cell_type": "markdown",
   "metadata": {},
   "source": [
    "### Question 13\n",
    "### Given a list of numbers, remove the numbers that occur more than once. Return the remaining numbers in the order of occurrence [ONLY LIST DATA STRUCTURE IS ALLOWED]"
   ]
  },
  {
   "cell_type": "code",
   "execution_count": 114,
   "metadata": {},
   "outputs": [
    {
     "name": "stdout",
     "output_type": "stream",
     "text": [
      "[1, 2, 3, 4, 5, 66, 7, 8, 9]\n"
     ]
    }
   ],
   "source": [
    "numbers = [1,2,3,4,4,5,66,7,8,9,8,4]\n",
    "unique=[]\n",
    "for i in numbers:\n",
    "    if i not in unique:\n",
    "        unique.append(i)\n",
    "print(unique)"
   ]
  },
  {
   "cell_type": "markdown",
   "metadata": {},
   "source": [
    "### Question 14\n",
    "### What is the difference between shallow and deep copying in list. WAP  to demonstrate that. "
   ]
  },
  {
   "cell_type": "code",
   "execution_count": 116,
   "metadata": {},
   "outputs": [
    {
     "name": "stdout",
     "output_type": "stream",
     "text": [
      "The new list of elements after deep copying \n",
      "[1, 2, [5, 7], 4]\n",
      "[1, 2, [5, 6], 4]\n"
     ]
    }
   ],
   "source": [
    "#deepcopy\n",
    "\n",
    "import copy\n",
    "  \n",
    "\n",
    "list_1 = [1, 2, [5,6], 4]\n",
    "  \n",
    "list_2 = copy.deepcopy(list_1)\n",
    "  \n",
    "\n",
    "list_2[2][1]= 7\n",
    "  \n",
    "# Change is reflected in list_2 \n",
    "print (\"The new list of elements after deep copying \")\n",
    "print(list_2)\n",
    "#no change in list 1\n",
    "print(list_1)"
   ]
  },
  {
   "cell_type": "code",
   "execution_count": 118,
   "metadata": {},
   "outputs": [
    {
     "name": "stdout",
     "output_type": "stream",
     "text": [
      "The new list of elements after shallow copying \n",
      "[1, 2, [5, 7], 4]\n",
      "[1, 2, [5, 7], 4]\n"
     ]
    }
   ],
   "source": [
    "#shallowcopy\n",
    "import copy\n",
    "  \n",
    "\n",
    "list_3 = [1, 2, [5,6], 4]\n",
    "  \n",
    "list_4 = copy.copy(list_3)\n",
    "  \n",
    "\n",
    "list_4[2][1]= 7\n",
    "  \n",
    "# Change is reflected in list4\n",
    "print (\"The new list of elements after shallow copying \")\n",
    "print(list_4)\n",
    "#change in list 3\n",
    "print(list_3)"
   ]
  },
  {
   "cell_type": "markdown",
   "metadata": {},
   "source": [
    "### Question 15\n",
    "###  WAP to do the following: \n",
    "(a) Create a list of bank accounts with name alone (b)  then query for a new account and insert the details wrt alphabetical order of the name (c) query for a name and delete from the list (d) take an input name and append at the beginning (e) identifying  duplicates and remove all but one (f) sort the bank accounts alphabetically."
   ]
  },
  {
   "cell_type": "code",
   "execution_count": 143,
   "metadata": {},
   "outputs": [],
   "source": [
    "bank_names = ['SBI', 'PNB', 'ICICI']\n",
    "#a\n",
    "def add_acc(bank_list):\n",
    "    bank_name = input('Enter bank name: ')\n",
    "    bank_list.append(bank_name)\n",
    "    bank_list.sort()\n",
    "    return bank_list\n",
    "#b\n",
    "def delete_acc(bank_list):\n",
    "    bank_name = input('Enter bank name in the list: ')\n",
    "    bank_list.remove(bank_name)\n",
    "    return bank_list\n",
    "#c\n",
    "def add_beg(bank_list):\n",
    "    bank_name = input('Enter bank name: ')\n",
    "    bank_list.insert(0,bank_name)\n",
    "    return bank_list\n",
    "\n",
    "#d\n",
    "def remove_duplicates(bank_list):\n",
    "    bank = []\n",
    "    for i in bank_list:\n",
    "        if i not in bank:\n",
    "            bank.append(i)\n",
    "    return bank\n",
    "\n",
    "#e\n",
    "def sort_banks(bank_list):\n",
    "    bank_list.sort()\n",
    "    return bank_list"
   ]
  },
  {
   "cell_type": "code",
   "execution_count": 144,
   "metadata": {},
   "outputs": [
    {
     "name": "stdout",
     "output_type": "stream",
     "text": [
      "Enter bank name: ANB\n",
      "['ANB', 'ICICI', 'PNB', 'SBI']\n"
     ]
    }
   ],
   "source": [
    "add_acc(bank_names)\n",
    "print(bank_names)"
   ]
  },
  {
   "cell_type": "code",
   "execution_count": 145,
   "metadata": {},
   "outputs": [
    {
     "name": "stdout",
     "output_type": "stream",
     "text": [
      "Enter bank name in the list: SBI\n"
     ]
    },
    {
     "data": {
      "text/plain": [
       "['ANB', 'ICICI', 'PNB']"
      ]
     },
     "execution_count": 145,
     "metadata": {},
     "output_type": "execute_result"
    }
   ],
   "source": [
    "delete_acc(bank_names)"
   ]
  },
  {
   "cell_type": "code",
   "execution_count": 146,
   "metadata": {},
   "outputs": [
    {
     "name": "stdout",
     "output_type": "stream",
     "text": [
      "Enter bank name: PNB\n"
     ]
    },
    {
     "data": {
      "text/plain": [
       "['PNB', 'ANB', 'ICICI', 'PNB']"
      ]
     },
     "execution_count": 146,
     "metadata": {},
     "output_type": "execute_result"
    }
   ],
   "source": [
    "add_beg(bank_names)"
   ]
  },
  {
   "cell_type": "code",
   "execution_count": 151,
   "metadata": {},
   "outputs": [
    {
     "name": "stdout",
     "output_type": "stream",
     "text": [
      "['ANB', 'ICICI', 'PNB']\n"
     ]
    }
   ],
   "source": [
    "bank_names = remove_duplicates(bank_names)\n",
    "print(bank_names)"
   ]
  },
  {
   "cell_type": "code",
   "execution_count": 152,
   "metadata": {},
   "outputs": [
    {
     "data": {
      "text/plain": [
       "['ANB', 'ICICI', 'PNB']"
      ]
     },
     "execution_count": 152,
     "metadata": {},
     "output_type": "execute_result"
    }
   ],
   "source": [
    "sort_banks(bank_names)"
   ]
  }
 ],
 "metadata": {
  "kernelspec": {
   "display_name": "Python 3",
   "language": "python",
   "name": "python3"
  },
  "language_info": {
   "codemirror_mode": {
    "name": "ipython",
    "version": 3
   },
   "file_extension": ".py",
   "mimetype": "text/x-python",
   "name": "python",
   "nbconvert_exporter": "python",
   "pygments_lexer": "ipython3",
   "version": "3.6.5"
  }
 },
 "nbformat": 4,
 "nbformat_minor": 2
}
