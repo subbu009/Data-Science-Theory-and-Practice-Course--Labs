{
 "cells": [
  {
   "cell_type": "markdown",
   "metadata": {},
   "source": [
    "## Lab 3 "
   ]
  },
  {
   "cell_type": "markdown",
   "metadata": {},
   "source": [
    "### Q1) Create 3 tuples one for name, age and salary and group them using zip function. Print them using unpacking operator as well as indexing approach. "
   ]
  },
  {
   "cell_type": "code",
   "execution_count": 1,
   "metadata": {},
   "outputs": [
    {
     "name": "stdout",
     "output_type": "stream",
     "text": [
      "[('Raj', 25, 5), ('Ram', 25, 4.6), ('Shyam', 24, 6)]\n",
      "('Raj', 'Ram', 'Shyam') (25, 25, 24) (5, 4.6, 6)\n",
      "('Raj', 25, 5)\n",
      "('Ram', 25, 4.6)\n",
      "('Shyam', 24, 6)\n"
     ]
    }
   ],
   "source": [
    "names = ('Raj','Ram','Shyam')\n",
    "ages = (25,25,24)\n",
    "salary = (5,4.6,6) #LPA\n",
    "group = list(zip(names,ages,salary))\n",
    "print(group)\n",
    "#unpacking\n",
    "namesz,agesz,salaryz = zip(*group)\n",
    "print(namesz,agesz,salaryz)\n",
    "#indexing \n",
    "for x in zip(names,ages,salary):\n",
    "    print(x)"
   ]
  },
  {
   "cell_type": "markdown",
   "metadata": {},
   "source": [
    "### Q2) Using list comprehension and random number generation between 10 and 100,\n",
    "    (a) Print the even numbers\n",
    "    (b) Print the odd numbers\n",
    "    (c) Print the numbers divisible by 3 \n"
   ]
  },
  {
   "cell_type": "code",
   "execution_count": 2,
   "metadata": {},
   "outputs": [],
   "source": [
    "import random\n",
    "rand_list = res = [random.randrange(10, 100, 1) for i in range(10)]\n",
    "even_list = [x for x in rand_list  if x%2==0]\n",
    "odd_list = [x for x in rand_list  if x%2!=0]\n",
    "div3_list = [x for x in rand_list  if x%3==0]"
   ]
  },
  {
   "cell_type": "code",
   "execution_count": 3,
   "metadata": {},
   "outputs": [
    {
     "name": "stdout",
     "output_type": "stream",
     "text": [
      "[52, 81, 11, 17, 36, 47, 16, 80, 88, 76]\n",
      "[52, 36, 16, 80, 88, 76]\n",
      "[81, 11, 17, 47]\n",
      "[81, 36]\n"
     ]
    }
   ],
   "source": [
    "print(rand_list)\n",
    "print(even_list)\n",
    "print(odd_list)\n",
    "print(div3_list)"
   ]
  },
  {
   "cell_type": "markdown",
   "metadata": {},
   "source": [
    "### Q3) For two matrices of size 3X3 each, perform the following matrix operation : \n",
    "    (a) addition, (b) subtraction (c) multiplication and (d) transpose (e) trace. For each of them, do in both ways i.e. (i) Without using Zip() but use list comprehension (ii) Using Zip()"
   ]
  },
  {
   "cell_type": "code",
   "execution_count": 4,
   "metadata": {},
   "outputs": [
    {
     "name": "stdout",
     "output_type": "stream",
     "text": [
      "Addition of A and B is [[11, 13, 15], [17, 19, 21], [23, 25, 27]]\n",
      "Subtraction of A and B is [[-9, -9, -9], [-9, -9, -9], [-9, -9, -9]]\n",
      "Multiplication of A and B is [[84, 90, 96], [201, 216, 231], [318, 342, 366]]\n",
      "Transpose of A is [[1, 4, 7], [2, 5, 8], [3, 6, 9]]\n",
      "Trace of A is 15\n"
     ]
    }
   ],
   "source": [
    "#list comprehension\n",
    "A = [[1,2,3],[4,5,6],[7,8,9]]\n",
    "B = [[10,11,12],[13,14,15],[16,17,18]]\n",
    "#addition\n",
    "add = [[A[i][j] + B[i][j]  for j in range(len(A[0]))] for i in range(len(A))]\n",
    "#subtraction\n",
    "sub = [[A[i][j] - B[i][j]  for j in range(len(A[0]))] for i in range(len(A))] #A-B\n",
    "#multiplication\n",
    "mul = [[0,0,0],[0,0,0],[0,0,0]]\n",
    "for i in range(len(A)):\n",
    "    for j in range(len(B[0])):\n",
    "        for k in range(len(B)):\n",
    "            mul[i][j] += A[i][k] * B[k][j]\n",
    "#transpose\n",
    "A_T = [[A[j][i] for j in range(len(A))]for i in range(len(A[0]))]\n",
    "#trace\n",
    "trace_A=0\n",
    "for i in range(len(A)):\n",
    "    for j in range(len(A[0])):\n",
    "        if i==j:\n",
    "            trace_A +=A[i][j]\n",
    "print(f'Addition of A and B is {add}')\n",
    "print(f'Subtraction of A and B is {sub}')\n",
    "print(f'Multiplication of A and B is {mul}')\n",
    "print(f'Transpose of A is {A_T}')\n",
    "print(f'Trace of A is {trace_A}')\n"
   ]
  },
  {
   "cell_type": "code",
   "execution_count": 5,
   "metadata": {},
   "outputs": [],
   "source": [
    "def subt(iterable):\n",
    "    return iterable[0] - iterable[1]"
   ]
  },
  {
   "cell_type": "code",
   "execution_count": null,
   "metadata": {},
   "outputs": [],
   "source": [
    "#using zip\n",
    "A = [[1,2,3],[4,5,6],[7,8,9]]\n",
    "B = [[10,11,12],[13,14,15],[16,17,18]]\n",
    "#addition\n",
    "addz = [[map(sum, zip(*x)) for x in zip(A, B)]]\n",
    "#subtraction\n",
    "subz=[map(subt, zip(*t)) for t in zip(A, B)]#A-B\n",
    "#multiplication\n",
    "mulz = [[sum(a * b for a, b in zip(A_row, B_col)) for B_col in zip(*B)]for A_row in A]\n",
    "#transpose\n",
    "A_Tz = [row for row in zip(*A)]\n",
    "\n",
    "print(f'Addition of A and B using is {addz}')\n",
    "print(f'Subtraction of A and B is {subz}')\n",
    "print(f'Multiplication of A and B is {mulz}')\n",
    "print(f'Transpose of A is {A_Tz}')\n"
   ]
  },
  {
   "cell_type": "markdown",
   "metadata": {},
   "source": [
    "### Q4) Given two matrices A and B (list of lists) perform the following operations using zip() and *(unpacking) operator.\n",
    "\n",
    "    (a) Interchange any two rows\n",
    "\n",
    "    (b) Interchange any two columns \n",
    "\n",
    "    You can take suitable inputs for rows / columns"
   ]
  },
  {
   "cell_type": "code",
   "execution_count": 10,
   "metadata": {},
   "outputs": [
    {
     "name": "stdout",
     "output_type": "stream",
     "text": [
      "Before interchange\n",
      " A is [[1, 2, 3], [4, 5, 6], [7, 8, 9]] \n",
      " B is [[10, 11, 12], [13, 14, 15], [16, 17, 18]]\n",
      "\n",
      "After interchanging rows 0 and 1 betwwen A and B, \n",
      " A is [[10, 11, 12], [13, 14, 15], [7, 8, 9]] \n",
      " B is [[1, 2, 3], [4, 5, 6], [16, 17, 18]]\n"
     ]
    }
   ],
   "source": [
    "A = [[1,2,3],[4,5,6],[7,8,9]]\n",
    "B = [[10,11,12],[13,14,15],[16,17,18]]\n",
    "print(f'Before interchange\\n A is {A} \\n B is {B}\\n')\n",
    "#interchange two rows between A and B\n",
    "#list of rows\n",
    "a=[list(x) for x in zip(A,B)]\n",
    "a[0][0],a[0][1] = a[0][1],a[0][0]\n",
    "a[1][0],a[1][1] = a[1][1],a[1][0]\n",
    "A,B = [list(x) for x in zip(*a)]\n",
    "print(f'After interchanging rows 0 and 1 betwwen A and B, \\n A is {A} \\n B is {B}')"
   ]
  },
  {
   "cell_type": "code",
   "execution_count": 11,
   "metadata": {},
   "outputs": [
    {
     "name": "stdout",
     "output_type": "stream",
     "text": [
      "Before interchange \n",
      " A is [[1, 2, 3], [4, 5, 6], [7, 8, 9]] \n",
      " B is [[10, 11, 12], [13, 14, 15], [16, 17, 18]]\n",
      "\n",
      "After interchanging columns 0 and 1 betwwen A and B, \n",
      " A is [[10, 11, 3], [13, 14, 6], [16, 17, 9]] \n",
      " B is [[1, 2, 12], [4, 5, 15], [7, 8, 18]]\n"
     ]
    }
   ],
   "source": [
    "#interchange columns between A and B\n",
    "\n",
    "A = [[1,2,3],[4,5,6],[7,8,9]]\n",
    "B = [[10,11,12],[13,14,15],[16,17,18]]\n",
    "print(f'Before interchange \\n A is {A} \\n B is {B}\\n')\n",
    "#list of columns\n",
    "b = [list(x) for x in zip(*A)]\n",
    "c = [list(x) for x in zip(*B)]\n",
    "b[0],c[0] = c[0],b[0]\n",
    "b[1],c[1] = c[1],b[1]\n",
    "A = [list(x) for x in zip(*b)]\n",
    "B = [list(x) for x in zip(*c)]\n",
    "print(f'After interchanging columns 0 and 1 betwwen A and B, \\n A is {A} \\n B is {B}')"
   ]
  },
  {
   "cell_type": "markdown",
   "metadata": {},
   "source": [
    "### Q5) join tuples if similar initial elements - eg. -\n",
    "    The original list is : [(5, 6), (5, 7), (6, 8), (6, 10), (7, 13)]\n",
    "    The extracted elements : [(5, 6, 7), (6, 8, 10), (7, 13)]"
   ]
  },
  {
   "cell_type": "code",
   "execution_count": 12,
   "metadata": {},
   "outputs": [
    {
     "name": "stdout",
     "output_type": "stream",
     "text": [
      "Original list is [(5, 6), (5, 7), (6, 8), (6, 10), (7, 13)]\n",
      "Extracted list is [(5, 6, 7), (6, 8, 10), (7, 13)]\n"
     ]
    }
   ],
   "source": [
    "original_list = [(5, 6), (5, 7), (6, 8), (6, 10), (7, 13)]\n",
    "extracted_list = []\n",
    "\n",
    "for lis in original_list:\n",
    "    if extracted_list and extracted_list[-1][0] == lis[0]:\n",
    "        extracted_list[-1].extend(lis[1:])\n",
    "    else:\n",
    "        extracted_list.append([x for x in lis])\n",
    "extracted_list = list(map(tuple,extracted_list))\n",
    "print(f'Original list is {original_list}')\n",
    "print(f'Extracted list is {extracted_list}')"
   ]
  },
  {
   "cell_type": "markdown",
   "metadata": {},
   "source": [
    "### Q6) Sort the lists in tuple - eg.\n",
    "\n",
    "        The original tuple is : ([7, 5, 4], [8, 2, 4], [0, 7, 5])\n",
    "\n",
    "        The tuple after sorting lists : ([4, 5, 7], [2, 4, 8], [0, 5, 7])"
   ]
  },
  {
   "cell_type": "code",
   "execution_count": 13,
   "metadata": {},
   "outputs": [
    {
     "name": "stdout",
     "output_type": "stream",
     "text": [
      "Original tuple is ([7, 5, 4], [8, 2, 4], [0, 7, 5])\n",
      "Sorted tuple is ([4, 5, 7], [2, 4, 8], [0, 5, 7])\n"
     ]
    }
   ],
   "source": [
    "orig_tup = ([7, 5, 4], [8, 2, 4], [0, 7, 5])\n",
    "sort_tup = tuple([sorted(lis) for lis in orig_tup])\n",
    "print(f'Original tuple is {orig_tup}')\n",
    "print(f'Sorted tuple is {sort_tup}')"
   ]
  },
  {
   "cell_type": "markdown",
   "metadata": {},
   "source": [
    "### Q7) Given a list, \n",
    "\n",
    "       (a) Find all possible subsets and Store them in a list of lists (of length = 2^n)\n",
    "\n",
    "       (b) Demonstrate the following operations on a sublist ((i) Insert more elements into it (ii) Find and replace (iii) Delete individual elements till the sublist becomes empty (iv) Sorting"
   ]
  },
  {
   "cell_type": "code",
   "execution_count": 14,
   "metadata": {},
   "outputs": [],
   "source": [
    "def list_subsets(lis):\n",
    "    power_set = [[]]\n",
    "    for ele in lis:\n",
    "        for sub in power_set:\n",
    "            power_set = power_set+ [list(sub)+[ele]]\n",
    "    return power_set"
   ]
  },
  {
   "cell_type": "code",
   "execution_count": 15,
   "metadata": {},
   "outputs": [
    {
     "name": "stdout",
     "output_type": "stream",
     "text": [
      "[[], [1], [2], [1, 2], [3], [1, 3], [2, 3], [1, 2, 3]]\n"
     ]
    }
   ],
   "source": [
    "#a)\n",
    "power_list = list_subsets([1,2,3])\n",
    "print(power_list)"
   ]
  },
  {
   "cell_type": "code",
   "execution_count": 16,
   "metadata": {},
   "outputs": [
    {
     "name": "stdout",
     "output_type": "stream",
     "text": [
      "[1, 2, 3]\n",
      "[1, 2, 3, 5]\n",
      "[1, 2, 3, 0]\n",
      "[0, 1, 2, 3]\n",
      "[]\n"
     ]
    }
   ],
   "source": [
    "#b)\n",
    "sublist = power_list[-1]\n",
    "print(sublist)\n",
    "#i) insert/append\n",
    "sublist.append(5)\n",
    "print(sublist)\n",
    "#ii) find and replace\n",
    "ind = sublist.index(5)\n",
    "sublist[ind]=0\n",
    "print(sublist)\n",
    "#iii)\n",
    "\n",
    "print(sorted(sublist))\n",
    "#iv)\n",
    "for i in range(len(sublist)):\n",
    "    sublist.pop()\n",
    "print(sublist)"
   ]
  },
  {
   "cell_type": "markdown",
   "metadata": {},
   "source": [
    "### Q8) Given two lists A and B of integers. Sort the lists A  and B together, with respect to the list A. (Hint: use zip)\n",
    "    Eg, A=[1,3,2], B=[6, -1, -2]\n",
    "    Answer: A = [1,2,3], B=[6,-2,-1]"
   ]
  },
  {
   "cell_type": "code",
   "execution_count": 17,
   "metadata": {},
   "outputs": [
    {
     "name": "stdout",
     "output_type": "stream",
     "text": [
      "Before sort A is [1, 3, 2] and B is [6, -1, -2]\n",
      "After sort A is [1, 2, 3] and B is [6, -2, -1]\n"
     ]
    }
   ],
   "source": [
    "A=[1,3,2]\n",
    "B=[6, -1, -2]\n",
    "print(f'Before sort A is {A} and B is {B}')\n",
    "A,B = [*(zip(*sorted(zip(A,B))))]\n",
    "print(f'After sort A is {list(A)} and B is {list(B)}')"
   ]
  }
 ],
 "metadata": {
  "kernelspec": {
   "display_name": "Python 3",
   "language": "python",
   "name": "python3"
  },
  "language_info": {
   "codemirror_mode": {
    "name": "ipython",
    "version": 3
   },
   "file_extension": ".py",
   "mimetype": "text/x-python",
   "name": "python",
   "nbconvert_exporter": "python",
   "pygments_lexer": "ipython3",
   "version": "3.6.5"
  }
 },
 "nbformat": 4,
 "nbformat_minor": 2
}
