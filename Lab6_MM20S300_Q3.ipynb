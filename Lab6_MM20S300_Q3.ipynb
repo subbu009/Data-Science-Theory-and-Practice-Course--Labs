{
 "cells": [
  {
   "cell_type": "markdown",
   "metadata": {},
   "source": [
    "## Lab 6 - Inheritance and file input                      \n",
    " - by Subrahmanyam Gantasala MM20S300"
   ]
  },
  {
   "cell_type": "markdown",
   "metadata": {},
   "source": [
    "### Q3) Assuming that you have a department with students in different streams such as B.Tech, DD, MS, PhD.   \n",
    "- Make a list of students in each class (streams). \n",
    "- Using multiple inheritance for department from the students, add methods such as identification of the student's stream, printing the details of the student, as well as add methods to add courses for a particular student and compute the CGPA of each student.\n"
   ]
  },
  {
   "cell_type": "code",
   "execution_count": 73,
   "metadata": {},
   "outputs": [],
   "source": [
    "class MS:\n",
    "    student_list = {'A':{'ED101':8,'ED102':7},'B':{'ED101':9,'ED102':6}} #structure = list of '{student_name:{'Course':GPA}}'\n",
    "    def __init__(self,name):\n",
    "        self.name = name\n",
    "        class Department(MS):\n",
    "            def __init__(self,name):\n",
    "                super().__init__(name)\n",
    "    \n",
    "    def print_details(self,name):\n",
    "        print(f'Student Name: {self.name}')\n",
    "        if name in self.student_list.keys():\n",
    "            print(f'Course : GPA')\n",
    "            for k,v in self.student_list[name].items():\n",
    "                print(f'{k} : {v}')\n",
    "        else:\n",
    "            print(f'No student with name {self.name}')\n",
    "    def add_course(self,name,course):\n",
    "        if name in self.student_list.keys():\n",
    "            self.student_list[name].update({course:0}) #default gpa=0\n",
    "        else:\n",
    "            print(f'No student with name {self.name}') \n",
    "    def cgpa(self,name):\n",
    "        if name in self.student_list.keys():\n",
    "            return (sum(self.student_list[name].values())/len(self.student_list[name].values()))"
   ]
  },
  {
   "cell_type": "code",
   "execution_count": 82,
   "metadata": {},
   "outputs": [],
   "source": [
    "s1 = MS('A')"
   ]
  },
  {
   "cell_type": "code",
   "execution_count": 83,
   "metadata": {},
   "outputs": [
    {
     "name": "stdout",
     "output_type": "stream",
     "text": [
      "Student Name: A\n",
      "Course : GPA\n",
      "ED101 : 8\n",
      "ED102 : 7\n",
      "ED103 : 0\n"
     ]
    }
   ],
   "source": [
    "s1.print_details('A')"
   ]
  },
  {
   "cell_type": "code",
   "execution_count": 76,
   "metadata": {},
   "outputs": [],
   "source": [
    "s1.add_course('A','ED103')"
   ]
  },
  {
   "cell_type": "code",
   "execution_count": 77,
   "metadata": {},
   "outputs": [
    {
     "name": "stdout",
     "output_type": "stream",
     "text": [
      "Student Name: A\n",
      "Course : GPA\n",
      "ED101 : 8\n",
      "ED102 : 7\n",
      "ED103 : 0\n"
     ]
    }
   ],
   "source": [
    "s1.print_details('A')"
   ]
  },
  {
   "cell_type": "code",
   "execution_count": 84,
   "metadata": {},
   "outputs": [
    {
     "data": {
      "text/plain": [
       "5.0"
      ]
     },
     "execution_count": 84,
     "metadata": {},
     "output_type": "execute_result"
    }
   ],
   "source": [
    "s1.cgpa('A')"
   ]
  },
  {
   "cell_type": "code",
   "execution_count": 85,
   "metadata": {},
   "outputs": [],
   "source": [
    "s2=MS(\"B\")"
   ]
  },
  {
   "cell_type": "code",
   "execution_count": 87,
   "metadata": {},
   "outputs": [
    {
     "name": "stdout",
     "output_type": "stream",
     "text": [
      "Student Name: B\n",
      "Course : GPA\n",
      "ED101 : 9\n",
      "ED102 : 6\n"
     ]
    }
   ],
   "source": [
    "s2.print_details('B')"
   ]
  },
  {
   "cell_type": "code",
   "execution_count": 88,
   "metadata": {},
   "outputs": [
    {
     "data": {
      "text/plain": [
       "7.5"
      ]
     },
     "execution_count": 88,
     "metadata": {},
     "output_type": "execute_result"
    }
   ],
   "source": [
    "s2.cgpa('B')"
   ]
  },
  {
   "cell_type": "code",
   "execution_count": null,
   "metadata": {},
   "outputs": [],
   "source": []
  }
 ],
 "metadata": {
  "kernelspec": {
   "display_name": "Python 3",
   "language": "python",
   "name": "python3"
  },
  "language_info": {
   "codemirror_mode": {
    "name": "ipython",
    "version": 3
   },
   "file_extension": ".py",
   "mimetype": "text/x-python",
   "name": "python",
   "nbconvert_exporter": "python",
   "pygments_lexer": "ipython3",
   "version": "3.6.5"
  }
 },
 "nbformat": 4,
 "nbformat_minor": 2
}
