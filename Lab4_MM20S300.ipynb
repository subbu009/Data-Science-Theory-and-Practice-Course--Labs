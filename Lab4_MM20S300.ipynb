{
 "cells": [
  {
   "cell_type": "markdown",
   "metadata": {},
   "source": [
    "### Sets and Dictionaries:\n",
    "----------------------\n",
    "#### 1) Given a string, remove its duplicates and print them in the same order as they appear in the input. Try using (a) with set (b) without set"
   ]
  },
  {
   "cell_type": "code",
   "execution_count": 1,
   "metadata": {},
   "outputs": [
    {
     "name": "stdout",
     "output_type": "stream",
     "text": [
      "Before removing duplicates string is hello how are you, how\n",
      "After removing duplicates string is hello how are you,\n"
     ]
    }
   ],
   "source": [
    "#b)\n",
    "def remove_dup(l):\n",
    "    r=[]\n",
    "    for i in l:\n",
    "        if i not in r:\n",
    "            r.append(i)\n",
    "    return r\n",
    "str1 = 'hello how are you, how'\n",
    "str2 = ' '.join(remove_dup(str1.split()))\n",
    "print(f'Before removing duplicates string is {str1}\\nAfter removing duplicates string is {str2}')"
   ]
  },
  {
   "cell_type": "code",
   "execution_count": 2,
   "metadata": {},
   "outputs": [
    {
     "name": "stdout",
     "output_type": "stream",
     "text": [
      "Before removing duplicates string is hello how are you, how\n",
      "After removing duplicates string is hello how are you,\n"
     ]
    }
   ],
   "source": [
    "#a)\n",
    "str3 = ' '.join(sorted(set(str1.split()), key = str1.index))\n",
    "print(f'Before removing duplicates string is {str1}\\nAfter removing duplicates string is {str3}')"
   ]
  },
  {
   "cell_type": "markdown",
   "metadata": {},
   "source": [
    "#### 2) For a dictionary, arrange them in the alphabetical order of the 'keys'. Insert a few key:value pair following (i) the alphabetical order of keys. (ii) sort using 'values"
   ]
  },
  {
   "cell_type": "code",
   "execution_count": 3,
   "metadata": {},
   "outputs": [
    {
     "name": "stdout",
     "output_type": "stream",
     "text": [
      "Dictionary before sorted {'one': 1, 'two': 3, 'three': 2, 'four': 4}\n",
      "Dictionary after sorted wrt keys {'four': 4, 'one': 1, 'three': 2, 'two': 3}\n",
      "Dictionary after sorted wrt values {'one': 1, 'three': 2, 'two': 3, 'four': 4}\n"
     ]
    }
   ],
   "source": [
    "dict1 = dict(one=1, two=3, three = 2, four=4)\n",
    "print(f'Dictionary before sorted {dict1}')\n",
    "\n",
    "#alphabetical order of keys\n",
    "dict2 = dict(sorted(dict1.items()))\n",
    "print(f'Dictionary after sorted wrt keys {dict2}')\n",
    "\n",
    "#sorting wrt to values\n",
    "dict3 = dict(sorted(dict1.items(),key = lambda kv : kv[1]))\n",
    "print(f'Dictionary after sorted wrt values {dict3}')"
   ]
  },
  {
   "cell_type": "markdown",
   "metadata": {},
   "source": [
    "#### 3) Make a dictionary for a grade sheet: The grade sheet should contain name, roll number, number of subjects (say, 5), cgpa. Compute cgpa and store that information also as an element in dictionary for each student. Print the grade sheet of a student in a nice format"
   ]
  },
  {
   "cell_type": "code",
   "execution_count": 4,
   "metadata": {},
   "outputs": [
    {
     "data": {
      "text/plain": [
       "{'s1': {'Name': 'Anu',\n",
       "  'Roll': 101,\n",
       "  'Points': {'English': 8, 'Hindi': 9, 'Maths': 7, 'Science': 6, 'Social': 9}},\n",
       " 's2': {'Name': 'Ruchi',\n",
       "  'Roll': 102,\n",
       "  'Points': {'English': 8, 'Hindi': 9, 'Maths': 9, 'Science': 9, 'Social': 9}},\n",
       " 's3': {'Name': 'Nishi',\n",
       "  'Roll': 103,\n",
       "  'Points': {'English': 7, 'Hindi': 9, 'Maths': 7, 'Science': 6, 'Social': 9}}}"
      ]
     },
     "execution_count": 4,
     "metadata": {},
     "output_type": "execute_result"
    }
   ],
   "source": [
    "#grade sheet dictionary\n",
    "grade_sheet={'s1': {'Name': 'Anu', 'Roll':101,'Points':{'English':8,'Hindi':9,'Maths':7,'Science':6,'Social':9}}, \n",
    "             's2': {'Name':'Ruchi','Roll':102,'Points':{'English':8,'Hindi':9,'Maths':9,'Science':9,'Social':9}}, \n",
    "             's3': {'Name':'Nishi','Roll':103,'Points':{'English':7,'Hindi':9,'Maths':7,'Science':6,'Social':9}}}\n",
    "grade_sheet\n"
   ]
  },
  {
   "cell_type": "code",
   "execution_count": 5,
   "metadata": {},
   "outputs": [],
   "source": [
    "for i in grade_sheet.keys():\n",
    "    grade_sheet[i]['CGPA'] = sum(list(grade_sheet[i]['Points'].values()))/len(list(grade_sheet[i]['Points'].values()))"
   ]
  },
  {
   "cell_type": "code",
   "execution_count": 6,
   "metadata": {},
   "outputs": [
    {
     "data": {
      "text/plain": [
       "{'s1': {'Name': 'Anu',\n",
       "  'Roll': 101,\n",
       "  'Points': {'English': 8, 'Hindi': 9, 'Maths': 7, 'Science': 6, 'Social': 9},\n",
       "  'CGPA': 7.8},\n",
       " 's2': {'Name': 'Ruchi',\n",
       "  'Roll': 102,\n",
       "  'Points': {'English': 8, 'Hindi': 9, 'Maths': 9, 'Science': 9, 'Social': 9},\n",
       "  'CGPA': 8.8},\n",
       " 's3': {'Name': 'Nishi',\n",
       "  'Roll': 103,\n",
       "  'Points': {'English': 7, 'Hindi': 9, 'Maths': 7, 'Science': 6, 'Social': 9},\n",
       "  'CGPA': 7.6}}"
      ]
     },
     "execution_count": 6,
     "metadata": {},
     "output_type": "execute_result"
    }
   ],
   "source": [
    "grade_sheet"
   ]
  },
  {
   "cell_type": "code",
   "execution_count": 7,
   "metadata": {},
   "outputs": [
    {
     "name": "stdout",
     "output_type": "stream",
     "text": [
      "Name : Anu\n",
      "Roll : 101\n",
      "Points : {'English': 8, 'Hindi': 9, 'Maths': 7, 'Science': 6, 'Social': 9}\n",
      "CGPA : 7.8\n"
     ]
    }
   ],
   "source": [
    "#print grades sheet of Anu\n",
    "for key,val in grade_sheet['s1'].items():\n",
    "    print(f'{key} : {val}')"
   ]
  },
  {
   "cell_type": "markdown",
   "metadata": {},
   "source": [
    "#### 4) [nested dictionary] Using the example in the class for a nested dictionary, sort using the 'values' of the nested dictionary."
   ]
  },
  {
   "cell_type": "code",
   "execution_count": 8,
   "metadata": {},
   "outputs": [],
   "source": [
    "studlist = {'Ramesh' : {'DOB' : '19/11/2001', 'Roll' : 'ED1235' },\n",
    "'Kamesh' : {'DOB' : '21/11/2001', 'Roll' : 'ED1236' } , 'Anand' : {'DOB' : '20/11/2001', 'Roll' : 'ED1234' }}"
   ]
  },
  {
   "cell_type": "code",
   "execution_count": 9,
   "metadata": {},
   "outputs": [
    {
     "name": "stdout",
     "output_type": "stream",
     "text": [
      "Sorted dictionary wrt Roll no \n",
      "{'Anand': {'DOB': '20/11/2001', 'Roll': 'ED1234'}, 'Ramesh': {'DOB': '19/11/2001', 'Roll': 'ED1235'}, 'Kamesh': {'DOB': '21/11/2001', 'Roll': 'ED1236'}} \n"
     ]
    }
   ],
   "source": [
    "#sorting the studlist wrt Roll number\n",
    "sorted_studlist = dict(sorted(studlist.items(),key = lambda kv : kv[1]['Roll']))\n",
    "print(f'Sorted dictionary wrt Roll no \\n{sorted_studlist} ')"
   ]
  },
  {
   "cell_type": "code",
   "execution_count": 10,
   "metadata": {},
   "outputs": [],
   "source": [
    "studlist_sort = {key : dict(sorted(value.items(),key= lambda kv:kv[1])) for key,value in studlist.items()}"
   ]
  },
  {
   "cell_type": "markdown",
   "metadata": {},
   "source": [
    "### Functions:\n",
    "____________\n",
    "\n",
    "#### (5) (a) find a number is even or odd, (b) To find the number of vowels / consonants (use single function to do both)."
   ]
  },
  {
   "cell_type": "code",
   "execution_count": 11,
   "metadata": {},
   "outputs": [
    {
     "name": "stdout",
     "output_type": "stream",
     "text": [
      "Given number 5 is odd\n",
      "Given number 10 is even\n"
     ]
    }
   ],
   "source": [
    "#a)\n",
    "\n",
    "def even_or_odd(num):\n",
    "    if num %2==0:\n",
    "        print(f'Given number {num} is even')\n",
    "    else:\n",
    "        print(f'Given number {num} is odd')\n",
    "even_or_odd(5)\n",
    "even_or_odd(10)"
   ]
  },
  {
   "cell_type": "code",
   "execution_count": 12,
   "metadata": {},
   "outputs": [
    {
     "name": "stdout",
     "output_type": "stream",
     "text": [
      "No of vowels and consonants in the given string are vowels = 11 and consonants = 16\n"
     ]
    }
   ],
   "source": [
    "#b) \n",
    "\n",
    "def count_vowels_cons(string):\n",
    "    vowels = set('aeiouAEIOU')\n",
    "    consonants = set('bcdfghjklmnpqrstvwxyzBCDFGHJKLMNPQRSTVWXYZ')\n",
    "    vow = 0\n",
    "    con = 0\n",
    "    for i in string:\n",
    "        if i in vowels:\n",
    "            vow+=1\n",
    "        elif i in consonants:\n",
    "            con+=1\n",
    "        else:\n",
    "            pass\n",
    "    return print(f'No of vowels and consonants in the given string are vowels = {vow} and consonants = {con}')\n",
    "count_vowels_cons(\"Please enter a string as you wish: \")"
   ]
  },
  {
   "cell_type": "markdown",
   "metadata": {},
   "source": [
    "#### (6) Write a function to find out if a given matrix (of arbitrary order) is symmetric or not."
   ]
  },
  {
   "cell_type": "code",
   "execution_count": 13,
   "metadata": {},
   "outputs": [
    {
     "name": "stdout",
     "output_type": "stream",
     "text": [
      "Given matrix is symmetric\n"
     ]
    }
   ],
   "source": [
    "#assume matrix as nested list\n",
    "def symm(matrix):\n",
    "    matrix_T = [list(row) for row in zip(*matrix)]\n",
    "    #print(matrix, matrix_T)\n",
    "    if matrix == matrix_T:\n",
    "        print('Given matrix is symmetric')\n",
    "    else:\n",
    "         print('Given matrix is not symmetric')\n",
    "symm([ [ 1, 3, 5 ], [ 3, 2, 4 ], [ 5, 4, 9 ] ])"
   ]
  },
  {
   "cell_type": "markdown",
   "metadata": {},
   "source": [
    "#### (7)  Using Recursion, do the following:\n",
    "      (a) Given a number, print the reverse. (b) Given a number, print the summation of the digits. for a floating point type, split it after the decimal point and do the summation). (c) To obtain Fibonacci numbers of first n numbers (d) Factorial of n. (e) Sum of 'n' digits"
   ]
  },
  {
   "cell_type": "code",
   "execution_count": 14,
   "metadata": {},
   "outputs": [
    {
     "data": {
      "text/plain": [
       "321"
      ]
     },
     "execution_count": 14,
     "metadata": {},
     "output_type": "execute_result"
    }
   ],
   "source": [
    "#a) \n",
    "rev_num=0\n",
    "def rev(num):\n",
    "    global rev_num\n",
    "    if num>0:\n",
    "        rem = num%10\n",
    "        rev_num = rev_num*10 +rem\n",
    "        rev((num//10))\n",
    "    return rev_num\n",
    "\n",
    "rev(123)"
   ]
  },
  {
   "cell_type": "code",
   "execution_count": 15,
   "metadata": {},
   "outputs": [
    {
     "data": {
      "text/plain": [
       "15"
      ]
     },
     "execution_count": 15,
     "metadata": {},
     "output_type": "execute_result"
    }
   ],
   "source": [
    "#b) \n",
    "def sum_of_digits(num):\n",
    "    if num==0:\n",
    "        return 0\n",
    "    return (num%10 + sum_of_digits(num//10))\n",
    "sum_of_digits(12345)"
   ]
  },
  {
   "cell_type": "code",
   "execution_count": 16,
   "metadata": {},
   "outputs": [
    {
     "name": "stdout",
     "output_type": "stream",
     "text": [
      "Fibonacci sequence of {numbers}) terms is \n",
      "0\n",
      "1\n",
      "1\n",
      "2\n",
      "3\n",
      "5\n",
      "8\n",
      "13\n",
      "21\n",
      "34\n"
     ]
    }
   ],
   "source": [
    "#c)\n",
    "def fib(n):\n",
    "    if n<=1:\n",
    "        return n\n",
    "    else:\n",
    "        return fib(n-1)+fib(n-2)\n",
    "numbers=10\n",
    "print('Fibonacci sequence of {numbers}) terms is ')\n",
    "for i in range(numbers):\n",
    "    print(fib(i))"
   ]
  },
  {
   "cell_type": "code",
   "execution_count": 17,
   "metadata": {},
   "outputs": [
    {
     "data": {
      "text/plain": [
       "24"
      ]
     },
     "execution_count": 17,
     "metadata": {},
     "output_type": "execute_result"
    }
   ],
   "source": [
    "#d)\n",
    "def fact(n):\n",
    "    if n==0:\n",
    "        return 1\n",
    "    else:\n",
    "        return n*fact(n-1)\n",
    "fact(4)"
   ]
  },
  {
   "cell_type": "code",
   "execution_count": 18,
   "metadata": {},
   "outputs": [
    {
     "data": {
      "text/plain": [
       "500500"
      ]
     },
     "execution_count": 18,
     "metadata": {},
     "output_type": "execute_result"
    }
   ],
   "source": [
    "#e)\n",
    "def sumn(num):\n",
    "    s=0\n",
    "    if num==0:\n",
    "        return 0\n",
    "    else:\n",
    "        s=num+sumn(num-1)\n",
    "    return s\n",
    "sumn(1000)"
   ]
  },
  {
   "cell_type": "markdown",
   "metadata": {},
   "source": [
    "### (8) ages=[81,23,10,19,91,25,55,41,49,60,18,32,65,10,12,13,1,2,3].   Use 'filter' and 'lambda' to find all the ages greater than or equal 18 from above list.\n",
    "\n",
    "NOTE: I did not teach 'filter' function. You have to learn using book / web resources."
   ]
  },
  {
   "cell_type": "code",
   "execution_count": 19,
   "metadata": {},
   "outputs": [
    {
     "name": "stdout",
     "output_type": "stream",
     "text": [
      "[81, 23, 19, 91, 25, 55, 41, 49, 60, 32, 65]\n"
     ]
    }
   ],
   "source": [
    "ages=[81,23,10,19,91,25,55,41,49,60,18,32,65,10,12,13,1,2,3]\n",
    "ages_above_18 = list(filter(lambda age:age>18,ages))\n",
    "print(ages_above_18)"
   ]
  },
  {
   "cell_type": "markdown",
   "metadata": {},
   "source": [
    "#### (9) Learn about the functions 'map' and 'reduce'. Demonstrate with suitable examples."
   ]
  },
  {
   "cell_type": "markdown",
   "metadata": {},
   "source": [
    "#### The map() function used to apply a specific function over the elements of an iterable "
   ]
  },
  {
   "cell_type": "code",
   "execution_count": 20,
   "metadata": {},
   "outputs": [
    {
     "data": {
      "text/plain": [
       "[1, 4, 9, 16]"
      ]
     },
     "execution_count": 20,
     "metadata": {},
     "output_type": "execute_result"
    }
   ],
   "source": [
    "#example  -find the squares of numbers in a list\n",
    "lis = [1,2,3,4]\n",
    "squares = list(map(lambda x:x**2, lis))\n",
    "squares"
   ]
  },
  {
   "cell_type": "markdown",
   "metadata": {},
   "source": [
    "#### The reduce() function returns a single value by performing sequential computation over an iterable(s)"
   ]
  },
  {
   "cell_type": "code",
   "execution_count": 21,
   "metadata": {},
   "outputs": [
    {
     "data": {
      "text/plain": [
       "24"
      ]
     },
     "execution_count": 21,
     "metadata": {},
     "output_type": "execute_result"
    }
   ],
   "source": [
    "#example - product of numbers in a list\n",
    "from functools import reduce\n",
    "prod = reduce(lambda x,y : x*y, lis)\n",
    "prod"
   ]
  }
 ],
 "metadata": {
  "kernelspec": {
   "display_name": "Python 3",
   "language": "python",
   "name": "python3"
  },
  "language_info": {
   "codemirror_mode": {
    "name": "ipython",
    "version": 3
   },
   "file_extension": ".py",
   "mimetype": "text/x-python",
   "name": "python",
   "nbconvert_exporter": "python",
   "pygments_lexer": "ipython3",
   "version": "3.6.5"
  }
 },
 "nbformat": 4,
 "nbformat_minor": 5
}
